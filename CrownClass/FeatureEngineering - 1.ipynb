{
 "cells": [
  {
   "cell_type": "markdown",
   "metadata": {},
   "source": [
    "In the previous notebook, Tim gave a fantastic example of working with a dataset and pipelining analysis given a dataset. One thing that was not mentioned is the ability for additional variables not explicitly in the original dataset to be calculated that can further enhance signal. "
   ]
  },
  {
   "cell_type": "code",
   "execution_count": 1,
   "metadata": {},
   "outputs": [],
   "source": [
    "import pandas as pd\n",
    "import random\n",
    "from sklearn.ensemble import RandomForestClassifier\n",
    "import matplotlib.pyplot as plt\n",
    "%matplotlib inline\n",
    "\n",
    "#raw_trees=pd.read_csv(\"FinalOverObTableWAR.csv\")\n",
    "\n",
    "#Now that we have a data dictionary, we can get rid of many of the irrelevant columns. I selected this particular subset also using some forestry knowledge (doubtful of the various volume variables contribution to crown class)\n",
    "fields = ['CLUSTER','ID',\n",
    "'tree_obs_id','tree_spp',\n",
    "'tree_dbh','tree_stems',\n",
    "'tree_height','tree_crown_class',\n",
    "'tree_stems_per','tree_ba',\n",
    "'stand_id','OverOb_wOverIDForTypBAFGrndPresCrzrSoilWet_over_id'\n",
    "]\n",
    "\n",
    "#Create a dataframe from just the subset of cols using same dataset from original notebook.\n",
    "reduced_data = pd.read_csv(\"FinalOverObTableWAR.csv\", usecols = fields)"
   ]
  },
  {
   "cell_type": "markdown",
   "metadata": {},
   "source": [
    "We know that tree height is collected in 5 ft bins, which limits the resolution and categorical variables can be tricky. \n",
    "One way to convert it would be to add some random noise between (0,1) to each height bin that it falls in. \n",
    "This won't change the bin and it won't change the relation between trees."
   ]
  },
  {
   "cell_type": "code",
   "execution_count": 2,
   "metadata": {},
   "outputs": [
    {
     "data": {
      "text/html": [
       "<div>\n",
       "<style scoped>\n",
       "    .dataframe tbody tr th:only-of-type {\n",
       "        vertical-align: middle;\n",
       "    }\n",
       "\n",
       "    .dataframe tbody tr th {\n",
       "        vertical-align: top;\n",
       "    }\n",
       "\n",
       "    .dataframe thead th {\n",
       "        text-align: right;\n",
       "    }\n",
       "</style>\n",
       "<table border=\"1\" class=\"dataframe\">\n",
       "  <thead>\n",
       "    <tr style=\"text-align: right;\">\n",
       "      <th></th>\n",
       "      <th>tree_height</th>\n",
       "      <th>tree_height_cont</th>\n",
       "    </tr>\n",
       "  </thead>\n",
       "  <tbody>\n",
       "    <tr>\n",
       "      <th>0</th>\n",
       "      <td>65</td>\n",
       "      <td>65.779763</td>\n",
       "    </tr>\n",
       "    <tr>\n",
       "      <th>1</th>\n",
       "      <td>55</td>\n",
       "      <td>55.470113</td>\n",
       "    </tr>\n",
       "    <tr>\n",
       "      <th>2</th>\n",
       "      <td>50</td>\n",
       "      <td>50.753983</td>\n",
       "    </tr>\n",
       "    <tr>\n",
       "      <th>3</th>\n",
       "      <td>40</td>\n",
       "      <td>40.920347</td>\n",
       "    </tr>\n",
       "    <tr>\n",
       "      <th>4</th>\n",
       "      <td>65</td>\n",
       "      <td>65.002580</td>\n",
       "    </tr>\n",
       "    <tr>\n",
       "      <th>5</th>\n",
       "      <td>70</td>\n",
       "      <td>70.146651</td>\n",
       "    </tr>\n",
       "    <tr>\n",
       "      <th>6</th>\n",
       "      <td>65</td>\n",
       "      <td>65.630543</td>\n",
       "    </tr>\n",
       "    <tr>\n",
       "      <th>7</th>\n",
       "      <td>65</td>\n",
       "      <td>65.707106</td>\n",
       "    </tr>\n",
       "    <tr>\n",
       "      <th>8</th>\n",
       "      <td>65</td>\n",
       "      <td>65.232074</td>\n",
       "    </tr>\n",
       "    <tr>\n",
       "      <th>9</th>\n",
       "      <td>55</td>\n",
       "      <td>55.883996</td>\n",
       "    </tr>\n",
       "  </tbody>\n",
       "</table>\n",
       "</div>"
      ],
      "text/plain": [
       "   tree_height  tree_height_cont\n",
       "0           65         65.779763\n",
       "1           55         55.470113\n",
       "2           50         50.753983\n",
       "3           40         40.920347\n",
       "4           65         65.002580\n",
       "5           70         70.146651\n",
       "6           65         65.630543\n",
       "7           65         65.707106\n",
       "8           65         65.232074\n",
       "9           55         55.883996"
      ]
     },
     "execution_count": 2,
     "metadata": {},
     "output_type": "execute_result"
    }
   ],
   "source": [
    "reduced_data['tree_height_cont'] = reduced_data['tree_height'] + [random.random() for _ in range(0, len(reduced_data))]\n",
    "\n",
    "reduced_data[['tree_height','tree_height_cont']].head(10)\n"
   ]
  },
  {
   "cell_type": "markdown",
   "metadata": {},
   "source": [
    "Knowing what we know about crown class, we can think about how the height of a given tree is perhaps less important than it's height relative to it's peers. A 30' tall tree may be impressive in a seed tree cut, but less so in a mature stand. One way to codify this is to look at height percentiles and where a tree falls.\n",
    "\n",
    "Height can be informative, but basal area is also very strongly of a individual's competitive status. We will also calculate the basal area percentile."
   ]
  },
  {
   "cell_type": "code",
   "execution_count": 3,
   "metadata": {},
   "outputs": [],
   "source": [
    "reduced_data['ht_percentile_stand'] = reduced_data.groupby('stand_id')['tree_height_cont'].rank(pct=True)\n",
    "reduced_data['BA_percentile_stand'] = reduced_data.groupby('stand_id')['tree_ba'].rank(pct=True)\n",
    "\n",
    "reduced_data['ht_percentile_plot'] = reduced_data.groupby('OverOb_wOverIDForTypBAFGrndPresCrzrSoilWet_over_id')['tree_height_cont'].rank(pct=True)\n",
    "reduced_data['BA_percentile_plot'] = reduced_data.groupby('OverOb_wOverIDForTypBAFGrndPresCrzrSoilWet_over_id')['tree_ba'].rank(pct=True)\n",
    "\n",
    "reduced_data['ht_percentile_ratio'] = reduced_data['ht_percentile_plot'] / reduced_data['ht_percentile_stand'] \n",
    "reduced_data['BA_percentile_ratio'] = reduced_data['BA_percentile_plot'] / reduced_data['BA_percentile_stand']\n",
    "\n",
    "\n"
   ]
  },
  {
   "cell_type": "code",
   "execution_count": null,
   "metadata": {},
   "outputs": [],
   "source": [
    "#Still need to figure out BAL function...\n",
    "\n",
    "#MWE\n",
    "import pandas as pd\n",
    "import numpy as np\n",
    "\n",
    "df = pd.DataFrame({'Grp': [1,1,1,1,1,1,1,1,2,2,2,2,2,2,2,3,3,3,3,3,4,4,4,4,4], \n",
    "                   'Obs': [1,4,7,3,2,5,2,5,7,7,4,2,9,10,12,9,5,3,2,4,11,7,4,8,3],\n",
    "                   'expected_output' : [28,17,0,21,26,12,26,12,38,38,45,49,22,12,0,0,9,18,21,14,0,19,26,11,30]})\n",
    "\n",
    "\n"
   ]
  },
  {
   "cell_type": "markdown",
   "metadata": {},
   "source": [
    "Now that we have calculated everything, let's check if they actually are meaningful or if my hunch was incorrect. We can do this by running the subset variables and new calculated variables through a RandomForest and check the variable importance."
   ]
  },
  {
   "cell_type": "code",
   "execution_count": 6,
   "metadata": {},
   "outputs": [
    {
     "data": {
      "text/plain": [
       "RandomForestClassifier(bootstrap=True, class_weight=None, criterion='gini',\n",
       "                       max_depth=None, max_features='auto', max_leaf_nodes=None,\n",
       "                       min_impurity_decrease=0.0, min_impurity_split=None,\n",
       "                       min_samples_leaf=1, min_samples_split=2,\n",
       "                       min_weight_fraction_leaf=0.0, n_estimators=500,\n",
       "                       n_jobs=-1, oob_score=False, random_state=None, verbose=0,\n",
       "                       warm_start=False)"
      ]
     },
     "execution_count": 6,
     "metadata": {},
     "output_type": "execute_result"
    }
   ],
   "source": [
    "#random forest \n",
    "\n",
    "\n",
    "#we need to re-encode categorical variables\n",
    "reduced_data['tree_spp2']=pd.factorize(reduced_data['tree_spp'])[0]\n",
    "reduced_data['tree_obs_id2']=pd.factorize(reduced_data['tree_obs_id'])[0]\n",
    "\n",
    "#predictors\n",
    "features = ['tree_obs_id2','tree_spp2',\n",
    "'tree_dbh','tree_stems',\n",
    "'tree_height','tree_stems_per','tree_ba',\n",
    "'tree_height_cont',\n",
    "'ht_percentile_stand',\n",
    "'BA_percentile_stand',\n",
    "'ht_percentile_plot',\n",
    "'BA_percentile_plot',\n",
    "'ht_percentile_ratio',\n",
    "'BA_percentile_ratio']\n",
    "\n",
    "#response variable\n",
    "train = ['tree_crown_class']\n",
    "\n",
    "rnd_clf = RandomForestClassifier(n_estimators=500,n_jobs=-1)\n",
    "\n",
    "rnd_clf.fit(reduced_data[features], reduced_data[\"tree_crown_class\"])"
   ]
  },
  {
   "cell_type": "markdown",
   "metadata": {},
   "source": [
    "With the model fit, we have to do some more work to get a variable importance plot"
   ]
  },
  {
   "cell_type": "code",
   "execution_count": 7,
   "metadata": {},
   "outputs": [
    {
     "name": "stdout",
     "output_type": "stream",
     "text": [
      "tree_obs_id2 = 0.0653528394804471\n",
      "tree_spp2 = 0.03135498567126365\n",
      "tree_dbh = 0.04248497484923248\n",
      "tree_stems = 1.6034299456525964e-06\n",
      "tree_height = 0.03516882767655343\n",
      "tree_stems_per = 0.031028925682762994\n",
      "tree_ba = 0.04058352914776957\n",
      "tree_height_cont = 0.11005400349087797\n",
      "ht_percentile_stand = 0.10600657783914079\n",
      "BA_percentile_stand = 0.08182065782334848\n",
      "ht_percentile_plot = 0.12908322230054592\n",
      "BA_percentile_plot = 0.1323171395067252\n",
      "ht_percentile_ratio = 0.10225359223956144\n",
      "BA_percentile_ratio = 0.09248912086182555\n"
     ]
    },
    {
     "data": {
      "image/png": "[encoded data removed]",
      "text/plain": [
       "<Figure size 432x288 with 1 Axes>"
      ]
     },
     "metadata": {
      "needs_background": "light"
     },
     "output_type": "display_data"
    }
   ],
   "source": [
    "for name, importance in zip(reduced_data[features], rnd_clf.feature_importances_):\n",
    "    print(name, \"=\", importance)\n",
    "\n",
    "import numpy as np\n",
    "feat = reduced_data[features]\n",
    "importances = rnd_clf.feature_importances_\n",
    "indices = np.argsort(importances)\n",
    "\n",
    "\n",
    "\n",
    "plt.figure(1)\n",
    "plt.title('Feature Importances')\n",
    "plt.barh(range(len(indices)), importances[indices], color='b', align='center')\n",
    "plt.yticks(range(len(indices)),feat.columns[indices])\n",
    "plt.xlabel('Relative Importance')\n",
    "plt.show()"
   ]
  },
  {
   "cell_type": "markdown",
   "metadata": {},
   "source": [
    "So we can see that all of the calculated variables are at the top of the importance graph so we have been successful in creating meaningful features."
   ]
  },
  {
   "cell_type": "markdown",
   "metadata": {},
   "source": [
    "## Multinomial Regression"
   ]
  },
  {
   "cell_type": "code",
   "execution_count": 9,
   "metadata": {},
   "outputs": [],
   "source": [
    "from sklearn.linear_model import LogisticRegression\n",
    "\n",
    "X = reduced_data[features]\n",
    "y = reduced_data['tree_crown_class']\n",
    "lr = LogisticRegression(multi_class='multinomial',solver ='newton-cg')# newton-cg is a solver that can handle multinomial loss per documentation\n",
    "lr.fit(X, y)\n",
    "preds = lr.predict(X)\n"
   ]
  },
  {
   "cell_type": "code",
   "execution_count": 14,
   "metadata": {},
   "outputs": [
    {
     "data": {
      "text/plain": [
       "array([[0.08, 0.92, 0.  , 0.  ],\n",
       "       [0.58, 0.4 , 0.01, 0.  ],\n",
       "       [0.66, 0.31, 0.03, 0.  ],\n",
       "       ...,\n",
       "       [0.33, 0.01, 0.41, 0.25],\n",
       "       [0.74, 0.22, 0.04, 0.  ],\n",
       "       [0.7 , 0.28, 0.02, 0.  ]])"
      ]
     },
     "execution_count": 14,
     "metadata": {},
     "output_type": "execute_result"
    }
   ],
   "source": [
    "#print probability\n",
    "lr.predict_proba(X).round(2)"
   ]
  },
  {
   "cell_type": "code",
   "execution_count": 27,
   "metadata": {},
   "outputs": [
    {
     "data": {
      "text/plain": [
       "0.659"
      ]
     },
     "execution_count": 27,
     "metadata": {},
     "output_type": "execute_result"
    }
   ],
   "source": [
    "#get mean accuracy\n",
    "lr.score(X, y).round(3)"
   ]
  },
  {
   "cell_type": "code",
   "execution_count": 25,
   "metadata": {},
   "outputs": [
    {
     "name": "stderr",
     "output_type": "stream",
     "text": [
      "/home/crgxcf/anaconda3/lib/python3.7/site-packages/statsmodels/discrete/discrete_model.py:2227: RuntimeWarning: divide by zero encountered in log\n",
      "  logprob = np.log(self.cdf(np.dot(self.exog,params)))\n",
      "/home/crgxcf/anaconda3/lib/python3.7/site-packages/statsmodels/discrete/discrete_model.py:2228: RuntimeWarning: invalid value encountered in multiply\n",
      "  return np.sum(d * logprob)\n"
     ]
    },
    {
     "name": "stdout",
     "output_type": "stream",
     "text": [
      "Optimization terminated successfully.    (Exit mode 0)\n",
      "            Current function value: 0.7579491003000123\n",
      "            Iterations: 293\n",
      "            Function evaluations: 316\n",
      "            Gradient evaluations: 293\n"
     ]
    }
   ],
   "source": [
    "#need to use statsmodel to get stat_summary info?\n",
    "\n",
    "import statsmodels.formula.api as smf\n",
    "\n",
    "TMlogit = smf.mnlogit('tree_crown_class ~ tree_obs_id2 + tree_spp2 + tree_dbh + tree_stems + tree_height + tree_stems_per + tree_ba + tree_height_cont + ht_percentile_stand + BA_percentile_stand + ht_percentile_plot + BA_percentile_plot + ht_percentile_ratio + BA_percentile_ratio', reduced_data)                   \n",
    "                      \n",
    "                    \n",
    "TMlogit_fit = TMlogit.fit_regularized() #fails to converge under normal MLE"
   ]
  },
  {
   "cell_type": "code",
   "execution_count": 26,
   "metadata": {
    "scrolled": false
   },
   "outputs": [
    {
     "data": {
      "text/html": [
       "<table class=\"simpletable\">\n",
       "<caption>MNLogit Regression Results</caption>\n",
       "<tr>\n",
       "  <th>Dep. Variable:</th>           <td>y</td>        <th>  No. Observations:  </th>  <td> 16575</td> \n",
       "</tr>\n",
       "<tr>\n",
       "  <th>Model:</th>                <td>MNLogit</td>     <th>  Df Residuals:      </th>  <td> 16530</td> \n",
       "</tr>\n",
       "<tr>\n",
       "  <th>Method:</th>                 <td>MLE</td>       <th>  Df Model:          </th>  <td>    42</td> \n",
       "</tr>\n",
       "<tr>\n",
       "  <th>Date:</th>            <td>Thu, 28 Nov 2019</td> <th>  Pseudo R-squ.:     </th>  <td>0.3561</td> \n",
       "</tr>\n",
       "<tr>\n",
       "  <th>Time:</th>                <td>21:00:20</td>     <th>  Log-Likelihood:    </th> <td> -12563.</td>\n",
       "</tr>\n",
       "<tr>\n",
       "  <th>converged:</th>             <td>True</td>       <th>  LL-Null:           </th> <td> -19510.</td>\n",
       "</tr>\n",
       "<tr>\n",
       "  <th>Covariance Type:</th>     <td>nonrobust</td>    <th>  LLR p-value:       </th>  <td> 0.000</td> \n",
       "</tr>\n",
       "</table>\n",
       "<table class=\"simpletable\">\n",
       "<tr>\n",
       "    <th>y=tree_crown_class[dominant]</th>      <th>coef</th>     <th>std err</th>      <th>z</th>      <th>P>|z|</th>  <th>[0.025</th>    <th>0.975]</th>  \n",
       "</tr>\n",
       "<tr>\n",
       "  <th>Intercept</th>                        <td>  -13.0003</td> <td>  418.121</td> <td>   -0.031</td> <td> 0.975</td> <td> -832.503</td> <td>  806.502</td>\n",
       "</tr>\n",
       "<tr>\n",
       "  <th>tree_obs_id2</th>                     <td>   -0.0220</td> <td>    0.005</td> <td>   -4.523</td> <td> 0.000</td> <td>   -0.032</td> <td>   -0.012</td>\n",
       "</tr>\n",
       "<tr>\n",
       "  <th>tree_spp2</th>                        <td>   -0.0120</td> <td>    0.009</td> <td>   -1.333</td> <td> 0.182</td> <td>   -0.030</td> <td>    0.006</td>\n",
       "</tr>\n",
       "<tr>\n",
       "  <th>tree_dbh</th>                         <td>    0.3939</td> <td>    0.098</td> <td>    4.020</td> <td> 0.000</td> <td>    0.202</td> <td>    0.586</td>\n",
       "</tr>\n",
       "<tr>\n",
       "  <th>tree_stems</th>                       <td>    5.4521</td> <td>  418.121</td> <td>    0.013</td> <td> 0.990</td> <td> -814.050</td> <td>  824.955</td>\n",
       "</tr>\n",
       "<tr>\n",
       "  <th>tree_height</th>                      <td>    0.6103</td> <td>    0.088</td> <td>    6.936</td> <td> 0.000</td> <td>    0.438</td> <td>    0.783</td>\n",
       "</tr>\n",
       "<tr>\n",
       "  <th>tree_stems_per</th>                   <td>    0.0029</td> <td>    0.003</td> <td>    1.006</td> <td> 0.315</td> <td>   -0.003</td> <td>    0.009</td>\n",
       "</tr>\n",
       "<tr>\n",
       "  <th>tree_ba</th>                          <td>   -1.6516</td> <td>    0.495</td> <td>   -3.340</td> <td> 0.001</td> <td>   -2.621</td> <td>   -0.682</td>\n",
       "</tr>\n",
       "<tr>\n",
       "  <th>tree_height_cont</th>                 <td>   -0.5952</td> <td>    0.091</td> <td>   -6.515</td> <td> 0.000</td> <td>   -0.774</td> <td>   -0.416</td>\n",
       "</tr>\n",
       "<tr>\n",
       "  <th>ht_percentile_stand</th>              <td>    0.0740</td> <td>    0.332</td> <td>    0.223</td> <td> 0.823</td> <td>   -0.576</td> <td>    0.724</td>\n",
       "</tr>\n",
       "<tr>\n",
       "  <th>BA_percentile_stand</th>              <td>   -0.0473</td> <td>    0.497</td> <td>   -0.095</td> <td> 0.924</td> <td>   -1.021</td> <td>    0.926</td>\n",
       "</tr>\n",
       "<tr>\n",
       "  <th>ht_percentile_plot</th>               <td>    2.9874</td> <td>    0.127</td> <td>   23.491</td> <td> 0.000</td> <td>    2.738</td> <td>    3.237</td>\n",
       "</tr>\n",
       "<tr>\n",
       "  <th>BA_percentile_plot</th>               <td>    2.1562</td> <td>    0.161</td> <td>   13.409</td> <td> 0.000</td> <td>    1.841</td> <td>    2.471</td>\n",
       "</tr>\n",
       "<tr>\n",
       "  <th>ht_percentile_ratio</th>              <td>    0.0022</td> <td>    0.006</td> <td>    0.357</td> <td> 0.721</td> <td>   -0.010</td> <td>    0.014</td>\n",
       "</tr>\n",
       "<tr>\n",
       "  <th>BA_percentile_ratio</th>              <td>   -0.0059</td> <td>    0.031</td> <td>   -0.191</td> <td> 0.848</td> <td>   -0.066</td> <td>    0.054</td>\n",
       "</tr>\n",
       "<tr>\n",
       "  <th>y=tree_crown_class[intermediate]</th>    <th>coef</th>     <th>std err</th>      <th>z</th>      <th>P>|z|</th>  <th>[0.025</th>    <th>0.975]</th>  \n",
       "</tr>\n",
       "<tr>\n",
       "  <th>Intercept</th>                        <td>    2.9615</td> <td> 3796.539</td> <td>    0.001</td> <td> 0.999</td> <td>-7438.118</td> <td> 7444.041</td>\n",
       "</tr>\n",
       "<tr>\n",
       "  <th>tree_obs_id2</th>                     <td>    0.0127</td> <td>    0.006</td> <td>    2.166</td> <td> 0.030</td> <td>    0.001</td> <td>    0.024</td>\n",
       "</tr>\n",
       "<tr>\n",
       "  <th>tree_spp2</th>                        <td>    0.0490</td> <td>    0.009</td> <td>    5.298</td> <td> 0.000</td> <td>    0.031</td> <td>    0.067</td>\n",
       "</tr>\n",
       "<tr>\n",
       "  <th>tree_dbh</th>                         <td>   -0.4923</td> <td>    0.101</td> <td>   -4.876</td> <td> 0.000</td> <td>   -0.690</td> <td>   -0.294</td>\n",
       "</tr>\n",
       "<tr>\n",
       "  <th>tree_stems</th>                       <td>    0.1252</td> <td> 3796.539</td> <td>  3.3e-05</td> <td> 1.000</td> <td>-7440.954</td> <td> 7441.204</td>\n",
       "</tr>\n",
       "<tr>\n",
       "  <th>tree_height</th>                      <td>   -0.9873</td> <td>    0.107</td> <td>   -9.201</td> <td> 0.000</td> <td>   -1.198</td> <td>   -0.777</td>\n",
       "</tr>\n",
       "<tr>\n",
       "  <th>tree_stems_per</th>                   <td>   -0.0018</td> <td>    0.002</td> <td>   -0.899</td> <td> 0.369</td> <td>   -0.006</td> <td>    0.002</td>\n",
       "</tr>\n",
       "<tr>\n",
       "  <th>tree_ba</th>                          <td>    3.2536</td> <td>    0.546</td> <td>    5.954</td> <td> 0.000</td> <td>    2.182</td> <td>    4.325</td>\n",
       "</tr>\n",
       "<tr>\n",
       "  <th>tree_height_cont</th>                 <td>    1.0148</td> <td>    0.112</td> <td>    9.025</td> <td> 0.000</td> <td>    0.794</td> <td>    1.235</td>\n",
       "</tr>\n",
       "<tr>\n",
       "  <th>ht_percentile_stand</th>              <td>   -2.9851</td> <td>    0.473</td> <td>   -6.313</td> <td> 0.000</td> <td>   -3.912</td> <td>   -2.058</td>\n",
       "</tr>\n",
       "<tr>\n",
       "  <th>BA_percentile_stand</th>              <td>    0.1033</td> <td>    0.596</td> <td>    0.173</td> <td> 0.862</td> <td>   -1.065</td> <td>    1.272</td>\n",
       "</tr>\n",
       "<tr>\n",
       "  <th>ht_percentile_plot</th>               <td>   -2.9114</td> <td>    0.170</td> <td>  -17.158</td> <td> 0.000</td> <td>   -3.244</td> <td>   -2.579</td>\n",
       "</tr>\n",
       "<tr>\n",
       "  <th>BA_percentile_plot</th>               <td>   -2.2409</td> <td>    0.212</td> <td>  -10.581</td> <td> 0.000</td> <td>   -2.656</td> <td>   -1.826</td>\n",
       "</tr>\n",
       "<tr>\n",
       "  <th>ht_percentile_ratio</th>              <td>   -0.0069</td> <td>    0.005</td> <td>   -1.486</td> <td> 0.137</td> <td>   -0.016</td> <td>    0.002</td>\n",
       "</tr>\n",
       "<tr>\n",
       "  <th>BA_percentile_ratio</th>              <td>   -0.0273</td> <td>    0.021</td> <td>   -1.315</td> <td> 0.188</td> <td>   -0.068</td> <td>    0.013</td>\n",
       "</tr>\n",
       "<tr>\n",
       "  <th>y=tree_crown_class[suppressed]</th>    <th>coef</th>     <th>std err</th>      <th>z</th>      <th>P>|z|</th>  <th>[0.025</th>    <th>0.975]</th>  \n",
       "</tr>\n",
       "<tr>\n",
       "  <th>Intercept</th>                      <td>    1.5335</td> <td> 8189.532</td> <td>    0.000</td> <td> 1.000</td> <td> -1.6e+04</td> <td> 1.61e+04</td>\n",
       "</tr>\n",
       "<tr>\n",
       "  <th>tree_obs_id2</th>                   <td>    0.0531</td> <td>    0.010</td> <td>    5.558</td> <td> 0.000</td> <td>    0.034</td> <td>    0.072</td>\n",
       "</tr>\n",
       "<tr>\n",
       "  <th>tree_spp2</th>                      <td>    0.0586</td> <td>    0.013</td> <td>    4.462</td> <td> 0.000</td> <td>    0.033</td> <td>    0.084</td>\n",
       "</tr>\n",
       "<tr>\n",
       "  <th>tree_dbh</th>                       <td>   -0.0027</td> <td>    0.151</td> <td>   -0.018</td> <td> 0.986</td> <td>   -0.299</td> <td>    0.293</td>\n",
       "</tr>\n",
       "<tr>\n",
       "  <th>tree_stems</th>                     <td>    1.4917</td> <td> 8189.532</td> <td>    0.000</td> <td> 1.000</td> <td> -1.6e+04</td> <td> 1.61e+04</td>\n",
       "</tr>\n",
       "<tr>\n",
       "  <th>tree_height</th>                    <td>   -0.9510</td> <td>    0.167</td> <td>   -5.694</td> <td> 0.000</td> <td>   -1.278</td> <td>   -0.624</td>\n",
       "</tr>\n",
       "<tr>\n",
       "  <th>tree_stems_per</th>                 <td>    0.0160</td> <td>    0.002</td> <td>    6.632</td> <td> 0.000</td> <td>    0.011</td> <td>    0.021</td>\n",
       "</tr>\n",
       "<tr>\n",
       "  <th>tree_ba</th>                        <td>    2.4398</td> <td>    0.798</td> <td>    3.056</td> <td> 0.002</td> <td>    0.875</td> <td>    4.005</td>\n",
       "</tr>\n",
       "<tr>\n",
       "  <th>tree_height_cont</th>               <td>    0.8763</td> <td>    0.173</td> <td>    5.071</td> <td> 0.000</td> <td>    0.538</td> <td>    1.215</td>\n",
       "</tr>\n",
       "<tr>\n",
       "  <th>ht_percentile_stand</th>            <td>   -4.0707</td> <td>    0.849</td> <td>   -4.792</td> <td> 0.000</td> <td>   -5.736</td> <td>   -2.406</td>\n",
       "</tr>\n",
       "<tr>\n",
       "  <th>BA_percentile_stand</th>            <td>   -0.1789</td> <td>    0.988</td> <td>   -0.181</td> <td> 0.856</td> <td>   -2.116</td> <td>    1.759</td>\n",
       "</tr>\n",
       "<tr>\n",
       "  <th>ht_percentile_plot</th>             <td>   -5.3752</td> <td>    0.400</td> <td>  -13.433</td> <td> 0.000</td> <td>   -6.159</td> <td>   -4.591</td>\n",
       "</tr>\n",
       "<tr>\n",
       "  <th>BA_percentile_plot</th>             <td>   -4.5278</td> <td>    0.428</td> <td>  -10.585</td> <td> 0.000</td> <td>   -5.366</td> <td>   -3.689</td>\n",
       "</tr>\n",
       "<tr>\n",
       "  <th>ht_percentile_ratio</th>            <td>   -0.0106</td> <td>    0.004</td> <td>   -2.937</td> <td> 0.003</td> <td>   -0.018</td> <td>   -0.004</td>\n",
       "</tr>\n",
       "<tr>\n",
       "  <th>BA_percentile_ratio</th>            <td>   -0.1358</td> <td>    0.033</td> <td>   -4.176</td> <td> 0.000</td> <td>   -0.200</td> <td>   -0.072</td>\n",
       "</tr>\n",
       "</table>"
      ],
      "text/plain": [
       "<class 'statsmodels.iolib.summary.Summary'>\n",
       "\"\"\"\n",
       "                          MNLogit Regression Results                          \n",
       "==============================================================================\n",
       "Dep. Variable:                      y   No. Observations:                16575\n",
       "Model:                        MNLogit   Df Residuals:                    16530\n",
       "Method:                           MLE   Df Model:                           42\n",
       "Date:                Thu, 28 Nov 2019   Pseudo R-squ.:                  0.3561\n",
       "Time:                        21:00:20   Log-Likelihood:                -12563.\n",
       "converged:                       True   LL-Null:                       -19510.\n",
       "Covariance Type:            nonrobust   LLR p-value:                     0.000\n",
       "==================================================================================================\n",
       "    y=tree_crown_class[dominant]       coef    std err          z      P>|z|      [0.025      0.975]\n",
       "----------------------------------------------------------------------------------------------------\n",
       "Intercept                          -13.0003    418.121     -0.031      0.975    -832.503     806.502\n",
       "tree_obs_id2                        -0.0220      0.005     -4.523      0.000      -0.032      -0.012\n",
       "tree_spp2                           -0.0120      0.009     -1.333      0.182      -0.030       0.006\n",
       "tree_dbh                             0.3939      0.098      4.020      0.000       0.202       0.586\n",
       "tree_stems                           5.4521    418.121      0.013      0.990    -814.050     824.955\n",
       "tree_height                          0.6103      0.088      6.936      0.000       0.438       0.783\n",
       "tree_stems_per                       0.0029      0.003      1.006      0.315      -0.003       0.009\n",
       "tree_ba                             -1.6516      0.495     -3.340      0.001      -2.621      -0.682\n",
       "tree_height_cont                    -0.5952      0.091     -6.515      0.000      -0.774      -0.416\n",
       "ht_percentile_stand                  0.0740      0.332      0.223      0.823      -0.576       0.724\n",
       "BA_percentile_stand                 -0.0473      0.497     -0.095      0.924      -1.021       0.926\n",
       "ht_percentile_plot                   2.9874      0.127     23.491      0.000       2.738       3.237\n",
       "BA_percentile_plot                   2.1562      0.161     13.409      0.000       1.841       2.471\n",
       "ht_percentile_ratio                  0.0022      0.006      0.357      0.721      -0.010       0.014\n",
       "BA_percentile_ratio                 -0.0059      0.031     -0.191      0.848      -0.066       0.054\n",
       "----------------------------------------------------------------------------------------------------\n",
       "y=tree_crown_class[intermediate]       coef    std err          z      P>|z|      [0.025      0.975]\n",
       "----------------------------------------------------------------------------------------------------\n",
       "Intercept                            2.9615   3796.539      0.001      0.999   -7438.118    7444.041\n",
       "tree_obs_id2                         0.0127      0.006      2.166      0.030       0.001       0.024\n",
       "tree_spp2                            0.0490      0.009      5.298      0.000       0.031       0.067\n",
       "tree_dbh                            -0.4923      0.101     -4.876      0.000      -0.690      -0.294\n",
       "tree_stems                           0.1252   3796.539    3.3e-05      1.000   -7440.954    7441.204\n",
       "tree_height                         -0.9873      0.107     -9.201      0.000      -1.198      -0.777\n",
       "tree_stems_per                      -0.0018      0.002     -0.899      0.369      -0.006       0.002\n",
       "tree_ba                              3.2536      0.546      5.954      0.000       2.182       4.325\n",
       "tree_height_cont                     1.0148      0.112      9.025      0.000       0.794       1.235\n",
       "ht_percentile_stand                 -2.9851      0.473     -6.313      0.000      -3.912      -2.058\n",
       "BA_percentile_stand                  0.1033      0.596      0.173      0.862      -1.065       1.272\n",
       "ht_percentile_plot                  -2.9114      0.170    -17.158      0.000      -3.244      -2.579\n",
       "BA_percentile_plot                  -2.2409      0.212    -10.581      0.000      -2.656      -1.826\n",
       "ht_percentile_ratio                 -0.0069      0.005     -1.486      0.137      -0.016       0.002\n",
       "BA_percentile_ratio                 -0.0273      0.021     -1.315      0.188      -0.068       0.013\n",
       "----------------------------------------------------------------------------------------------------\n",
       "y=tree_crown_class[suppressed]       coef    std err          z      P>|z|      [0.025      0.975]\n",
       "--------------------------------------------------------------------------------------------------\n",
       "Intercept                          1.5335   8189.532      0.000      1.000    -1.6e+04    1.61e+04\n",
       "tree_obs_id2                       0.0531      0.010      5.558      0.000       0.034       0.072\n",
       "tree_spp2                          0.0586      0.013      4.462      0.000       0.033       0.084\n",
       "tree_dbh                          -0.0027      0.151     -0.018      0.986      -0.299       0.293\n",
       "tree_stems                         1.4917   8189.532      0.000      1.000    -1.6e+04    1.61e+04\n",
       "tree_height                       -0.9510      0.167     -5.694      0.000      -1.278      -0.624\n",
       "tree_stems_per                     0.0160      0.002      6.632      0.000       0.011       0.021\n",
       "tree_ba                            2.4398      0.798      3.056      0.002       0.875       4.005\n",
       "tree_height_cont                   0.8763      0.173      5.071      0.000       0.538       1.215\n",
       "ht_percentile_stand               -4.0707      0.849     -4.792      0.000      -5.736      -2.406\n",
       "BA_percentile_stand               -0.1789      0.988     -0.181      0.856      -2.116       1.759\n",
       "ht_percentile_plot                -5.3752      0.400    -13.433      0.000      -6.159      -4.591\n",
       "BA_percentile_plot                -4.5278      0.428    -10.585      0.000      -5.366      -3.689\n",
       "ht_percentile_ratio               -0.0106      0.004     -2.937      0.003      -0.018      -0.004\n",
       "BA_percentile_ratio               -0.1358      0.033     -4.176      0.000      -0.200      -0.072\n",
       "==================================================================================================\n",
       "\"\"\""
      ]
     },
     "execution_count": 26,
     "metadata": {},
     "output_type": "execute_result"
    }
   ],
   "source": [
    "TMlogit_fit.summary()"
   ]
  },
  {
   "cell_type": "code",
   "execution_count": 28,
   "metadata": {},
   "outputs": [
    {
     "data": {
      "text/plain": [
       "{'C': 1.0,\n",
       " 'class_weight': None,\n",
       " 'dual': False,\n",
       " 'fit_intercept': True,\n",
       " 'intercept_scaling': 1,\n",
       " 'l1_ratio': None,\n",
       " 'max_iter': 100,\n",
       " 'multi_class': 'multinomial',\n",
       " 'n_jobs': None,\n",
       " 'penalty': 'l2',\n",
       " 'random_state': None,\n",
       " 'solver': 'newton-cg',\n",
       " 'tol': 0.0001,\n",
       " 'verbose': 0,\n",
       " 'warm_start': False}"
      ]
     },
     "execution_count": 28,
     "metadata": {},
     "output_type": "execute_result"
    }
   ],
   "source": [
    "lr.get_params()"
   ]
  }
 ],
 "metadata": {
  "kernelspec": {
   "display_name": "Python 3",
   "language": "python",
   "name": "python3"
  },
  "language_info": {
   "codemirror_mode": {
    "name": "ipython",
    "version": 3
   },
   "file_extension": ".py",
   "mimetype": "text/x-python",
   "name": "python",
   "nbconvert_exporter": "python",
   "pygments_lexer": "ipython3",
   "version": "3.7.3"
  }
 },
 "nbformat": 4,
 "nbformat_minor": 2
}
