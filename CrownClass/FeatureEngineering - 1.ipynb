{
 "cells": [
  {
   "cell_type": "markdown",
   "metadata": {},
   "source": [
    "In the previous notebook, Tim gave a fantastic example of working with a dataset and pipelining analysis given a dataset. One thing that was not mentioned is the ability for additional variables not explicitly in the original dataset to be calculated that can further enhance signal. "
   ]
  },
  {
   "cell_type": "code",
   "execution_count": 19,
   "metadata": {},
   "outputs": [
    {
     "name": "stderr",
     "output_type": "stream",
     "text": [
      "/home/crgxcf/anaconda3/lib/python3.7/site-packages/ipykernel_launcher.py:30: FutureWarning: Sorting because non-concatenation axis is not aligned. A future version\n",
      "of pandas will change to not sort by default.\n",
      "\n",
      "To accept the future behavior, pass 'sort=False'.\n",
      "\n",
      "To retain the current behavior and silence the warning, pass 'sort=True'.\n",
      "\n"
     ]
    },
    {
     "data": {
      "text/plain": [
       "(30828, 13)"
      ]
     },
     "execution_count": 19,
     "metadata": {},
     "output_type": "execute_result"
    }
   ],
   "source": [
    "import pandas as pd\n",
    "import random\n",
    "from sklearn.ensemble import RandomForestClassifier\n",
    "import matplotlib.pyplot as plt\n",
    "%matplotlib inline\n",
    "\n",
    "#raw_trees=pd.read_csv(\"FinalOverObTableWAR.csv\")\n",
    "\n",
    "#Now that we have a data dictionary, we can get rid of many of the irrelevant columns. I selected this particular subset also using some forestry knowledge (doubtful of the various volume variables contribution to crown class)\n",
    "fields = ['CLUSTER','ID',\n",
    "'tree_obs_id','tree_spp',\n",
    "'tree_dbh','tree_stems',\n",
    "'tree_height','tree_crown_class',\n",
    "'tree_stems_per','tree_ba',\n",
    "'stand_id','OverOb_wOverIDForTypBAFGrndPresCrzrSoilWet_over_id'\n",
    "]\n",
    "\n",
    "#Create a dataframe from just the subset of cols using same dataset from original notebook.\n",
    "#reduced_data = pd.read_csv(\"FinalOverObTableWAR.csv\", usecols = fields)\n",
    "\n",
    "\n",
    "#Here is some code to merge both years and use that. \n",
    "year1 = pd.read_csv(\"FinalOverObTableWAR.csv\",usecols = fields)\n",
    "year2 = pd.read_csv(\"FinalOverObsTableWARyr2.csv\",usecols = fields)\n",
    "\n",
    "#add column for tracking\n",
    "year1['Year'] = 'Year1'\n",
    "year2['Year'] = 'Year2'\n",
    "\n",
    "reduced_data = pd.concat([year1,year2]).dropna()\n",
    "reduced_data.shape\n",
    "\n"
   ]
  },
  {
   "cell_type": "markdown",
   "metadata": {},
   "source": [
    "We know that tree height is collected in 5 ft bins, which limits the resolution and categorical variables can be tricky. \n",
    "One way to convert it would be to add some random noise between (0,1) to each height bin that it falls in. \n",
    "This won't change the bin and it won't change the relation between trees."
   ]
  },
  {
   "cell_type": "code",
   "execution_count": 21,
   "metadata": {},
   "outputs": [
    {
     "data": {
      "text/html": [
       "<div>\n",
       "<style scoped>\n",
       "    .dataframe tbody tr th:only-of-type {\n",
       "        vertical-align: middle;\n",
       "    }\n",
       "\n",
       "    .dataframe tbody tr th {\n",
       "        vertical-align: top;\n",
       "    }\n",
       "\n",
       "    .dataframe thead th {\n",
       "        text-align: right;\n",
       "    }\n",
       "</style>\n",
       "<table border=\"1\" class=\"dataframe\">\n",
       "  <thead>\n",
       "    <tr style=\"text-align: right;\">\n",
       "      <th></th>\n",
       "      <th>tree_height</th>\n",
       "      <th>tree_height_cont</th>\n",
       "    </tr>\n",
       "  </thead>\n",
       "  <tbody>\n",
       "    <tr>\n",
       "      <th>0</th>\n",
       "      <td>65</td>\n",
       "      <td>65.273462</td>\n",
       "    </tr>\n",
       "    <tr>\n",
       "      <th>1</th>\n",
       "      <td>55</td>\n",
       "      <td>55.482517</td>\n",
       "    </tr>\n",
       "    <tr>\n",
       "      <th>2</th>\n",
       "      <td>50</td>\n",
       "      <td>50.921607</td>\n",
       "    </tr>\n",
       "    <tr>\n",
       "      <th>3</th>\n",
       "      <td>40</td>\n",
       "      <td>40.113939</td>\n",
       "    </tr>\n",
       "    <tr>\n",
       "      <th>4</th>\n",
       "      <td>65</td>\n",
       "      <td>65.042780</td>\n",
       "    </tr>\n",
       "    <tr>\n",
       "      <th>5</th>\n",
       "      <td>70</td>\n",
       "      <td>70.310267</td>\n",
       "    </tr>\n",
       "    <tr>\n",
       "      <th>6</th>\n",
       "      <td>65</td>\n",
       "      <td>65.847076</td>\n",
       "    </tr>\n",
       "    <tr>\n",
       "      <th>7</th>\n",
       "      <td>65</td>\n",
       "      <td>65.501405</td>\n",
       "    </tr>\n",
       "    <tr>\n",
       "      <th>8</th>\n",
       "      <td>65</td>\n",
       "      <td>65.826544</td>\n",
       "    </tr>\n",
       "    <tr>\n",
       "      <th>9</th>\n",
       "      <td>55</td>\n",
       "      <td>55.841029</td>\n",
       "    </tr>\n",
       "  </tbody>\n",
       "</table>\n",
       "</div>"
      ],
      "text/plain": [
       "   tree_height  tree_height_cont\n",
       "0           65         65.273462\n",
       "1           55         55.482517\n",
       "2           50         50.921607\n",
       "3           40         40.113939\n",
       "4           65         65.042780\n",
       "5           70         70.310267\n",
       "6           65         65.847076\n",
       "7           65         65.501405\n",
       "8           65         65.826544\n",
       "9           55         55.841029"
      ]
     },
     "execution_count": 21,
     "metadata": {},
     "output_type": "execute_result"
    }
   ],
   "source": [
    "reduced_data['tree_height_cont'] = reduced_data['tree_height'] + [random.random() for _ in range(0, len(reduced_data))]\n",
    "\n",
    "reduced_data[['tree_height','tree_height_cont']].head(10)\n"
   ]
  },
  {
   "cell_type": "markdown",
   "metadata": {},
   "source": [
    "Knowing what we know about crown class, we can think about how the height of a given tree is perhaps less important than it's height relative to it's peers. A 30' tall tree may be impressive in a seed tree cut, but less so in a mature stand. One way to codify this is to look at height percentiles and where a tree falls.\n",
    "\n",
    "Height can be informative, but basal area is also very strongly of a individual's competitive status. We will also calculate the basal area percentile."
   ]
  },
  {
   "cell_type": "code",
   "execution_count": 22,
   "metadata": {},
   "outputs": [],
   "source": [
    "reduced_data['ht_percentile_stand'] = reduced_data.groupby('stand_id')['tree_height_cont'].rank(pct=True)\n",
    "reduced_data['BA_percentile_stand'] = reduced_data.groupby('stand_id')['tree_ba'].rank(pct=True)\n",
    "\n",
    "reduced_data['ht_percentile_plot'] = reduced_data.groupby('OverOb_wOverIDForTypBAFGrndPresCrzrSoilWet_over_id')['tree_height_cont'].rank(pct=True)\n",
    "reduced_data['BA_percentile_plot'] = reduced_data.groupby('OverOb_wOverIDForTypBAFGrndPresCrzrSoilWet_over_id')['tree_ba'].rank(pct=True)\n",
    "\n",
    "reduced_data['ht_percentile_ratio'] = reduced_data['ht_percentile_plot'] / reduced_data['ht_percentile_stand'] \n",
    "reduced_data['BA_percentile_ratio'] = reduced_data['BA_percentile_plot'] / reduced_data['BA_percentile_stand']\n",
    "\n",
    "\n"
   ]
  },
  {
   "cell_type": "code",
   "execution_count": null,
   "metadata": {},
   "outputs": [],
   "source": [
    "#Still need to figure out BAL function...\n",
    "\n",
    "#MWE\n",
    "import pandas as pd\n",
    "import numpy as np\n",
    "\n",
    "df = pd.DataFrame({'Grp': [1,1,1,1,1,1,1,1,2,2,2,2,2,2,2,3,3,3,3,3,4,4,4,4,4], \n",
    "                   'Obs': [1,4,7,3,2,5,2,5,7,7,4,2,9,10,12,9,5,3,2,4,11,7,4,8,3],\n",
    "                   'expected_output' : [28,17,0,21,26,12,26,12,38,38,45,49,22,12,0,0,9,18,21,14,0,19,26,11,30]})\n",
    "\n",
    "\n"
   ]
  },
  {
   "cell_type": "markdown",
   "metadata": {},
   "source": [
    "Now that we have calculated everything, let's check if they actually are meaningful or if my hunch was incorrect. We can do this by running the subset variables and new calculated variables through a RandomForest and check the variable importance."
   ]
  },
  {
   "cell_type": "code",
   "execution_count": 23,
   "metadata": {},
   "outputs": [
    {
     "data": {
      "text/plain": [
       "RandomForestClassifier(bootstrap=True, class_weight=None, criterion='gini',\n",
       "                       max_depth=None, max_features='auto', max_leaf_nodes=None,\n",
       "                       min_impurity_decrease=0.0, min_impurity_split=None,\n",
       "                       min_samples_leaf=1, min_samples_split=2,\n",
       "                       min_weight_fraction_leaf=0.0, n_estimators=500,\n",
       "                       n_jobs=-1, oob_score=False, random_state=None, verbose=0,\n",
       "                       warm_start=False)"
      ]
     },
     "execution_count": 23,
     "metadata": {},
     "output_type": "execute_result"
    }
   ],
   "source": [
    "#random forest \n",
    "\n",
    "\n",
    "#we need to re-encode categorical variables\n",
    "reduced_data['tree_spp2']=pd.factorize(reduced_data['tree_spp'])[0]\n",
    "reduced_data['tree_obs_id2']=pd.factorize(reduced_data['tree_obs_id'])[0]\n",
    "\n",
    "#predictors\n",
    "features = ['tree_obs_id2','tree_spp2',\n",
    "'tree_dbh','tree_stems',\n",
    "'tree_height','tree_stems_per','tree_ba',\n",
    "'tree_height_cont',\n",
    "'ht_percentile_stand',\n",
    "'BA_percentile_stand',\n",
    "'ht_percentile_plot',\n",
    "'BA_percentile_plot',\n",
    "'ht_percentile_ratio',\n",
    "'BA_percentile_ratio']\n",
    "\n",
    "#response variable\n",
    "train = ['tree_crown_class']\n",
    "\n",
    "rnd_clf = RandomForestClassifier(n_estimators=500,n_jobs=-1)\n",
    "\n",
    "rnd_clf.fit(reduced_data[features], reduced_data[\"tree_crown_class\"])"
   ]
  },
  {
   "cell_type": "markdown",
   "metadata": {},
   "source": [
    "With the model fit, we have to do some more work to get a variable importance plot"
   ]
  },
  {
   "cell_type": "code",
   "execution_count": 24,
   "metadata": {},
   "outputs": [
    {
     "name": "stdout",
     "output_type": "stream",
     "text": [
      "tree_obs_id2 = 0.0648267717973607\n",
      "tree_spp2 = 0.0335039636362346\n",
      "tree_dbh = 0.04077262172753019\n",
      "tree_stems = 1.0694478674148673e-05\n",
      "tree_height = 0.03267238686843852\n",
      "tree_stems_per = 0.029584906226793037\n",
      "tree_ba = 0.03911478663503633\n",
      "tree_height_cont = 0.11152407376309487\n",
      "ht_percentile_stand = 0.1084900952654182\n",
      "BA_percentile_stand = 0.08676522303218956\n",
      "ht_percentile_plot = 0.12803437406344315\n",
      "BA_percentile_plot = 0.13340671984620642\n",
      "ht_percentile_ratio = 0.10078574762789745\n",
      "BA_percentile_ratio = 0.09050763503168273\n"
     ]
    },
    {
     "data": {
      "image/png": "[encoded data removed]",
      "text/plain": [
       "<Figure size 432x288 with 1 Axes>"
      ]
     },
     "metadata": {
      "needs_background": "light"
     },
     "output_type": "display_data"
    }
   ],
   "source": [
    "for name, importance in zip(reduced_data[features], rnd_clf.feature_importances_):\n",
    "    print(name, \"=\", importance)\n",
    "\n",
    "import numpy as np\n",
    "feat = reduced_data[features]\n",
    "importances = rnd_clf.feature_importances_\n",
    "indices = np.argsort(importances)\n",
    "\n",
    "\n",
    "\n",
    "plt.figure(1)\n",
    "plt.title('Feature Importances')\n",
    "plt.barh(range(len(indices)), importances[indices], color='b', align='center')\n",
    "plt.yticks(range(len(indices)),feat.columns[indices])\n",
    "plt.xlabel('Relative Importance')\n",
    "plt.show()"
   ]
  },
  {
   "cell_type": "markdown",
   "metadata": {},
   "source": [
    "So we can see that all of the calculated variables are at the top of the importance graph so we have been successful in creating meaningful features."
   ]
  },
  {
   "cell_type": "markdown",
   "metadata": {},
   "source": [
    "## Multinomial Regression"
   ]
  },
  {
   "cell_type": "code",
   "execution_count": 25,
   "metadata": {},
   "outputs": [],
   "source": [
    "from sklearn.linear_model import LogisticRegression\n",
    "\n",
    "X = reduced_data[features]\n",
    "y = reduced_data['tree_crown_class']\n",
    "lr = LogisticRegression(multi_class='multinomial',solver ='newton-cg')# newton-cg is a solver that can handle multinomial loss per documentation\n",
    "lr.fit(X, y)\n",
    "preds = lr.predict(X)\n"
   ]
  },
  {
   "cell_type": "code",
   "execution_count": 26,
   "metadata": {},
   "outputs": [
    {
     "data": {
      "text/plain": [
       "array([[0.06, 0.94, 0.  , 0.  ],\n",
       "       [0.59, 0.39, 0.02, 0.  ],\n",
       "       [0.61, 0.37, 0.02, 0.  ],\n",
       "       ...,\n",
       "       [0.54, 0.43, 0.02, 0.  ],\n",
       "       [0.12, 0.88, 0.  , 0.  ],\n",
       "       [0.6 , 0.05, 0.31, 0.04]])"
      ]
     },
     "execution_count": 26,
     "metadata": {},
     "output_type": "execute_result"
    }
   ],
   "source": [
    "#print probability\n",
    "lr.predict_proba(X).round(2)"
   ]
  },
  {
   "cell_type": "code",
   "execution_count": 27,
   "metadata": {},
   "outputs": [
    {
     "data": {
      "text/plain": [
       "0.659"
      ]
     },
     "execution_count": 27,
     "metadata": {},
     "output_type": "execute_result"
    }
   ],
   "source": [
    "#get mean accuracy\n",
    "lr.score(X, y).round(3)"
   ]
  },
  {
   "cell_type": "code",
   "execution_count": 11,
   "metadata": {},
   "outputs": [
    {
     "data": {
      "text/plain": [
       "array(['codominant', 'dominant', 'intermediate', 'suppressed'],\n",
       "      dtype=object)"
      ]
     },
     "execution_count": 11,
     "metadata": {},
     "output_type": "execute_result"
    }
   ],
   "source": [
    "y.unique()"
   ]
  },
  {
   "cell_type": "code",
   "execution_count": 12,
   "metadata": {},
   "outputs": [
    {
     "name": "stdout",
     "output_type": "stream",
     "text": [
      "              precision    recall  f1-score   support\n",
      "\n",
      "  codominant      0.666     0.758     0.709      8022\n",
      "    dominant      0.709     0.651     0.679      4843\n",
      "intermediate      0.535     0.461     0.496      2696\n",
      "  suppressed      0.619     0.412     0.495      1014\n",
      "\n",
      "    accuracy                          0.657     16575\n",
      "   macro avg      0.632     0.571     0.595     16575\n",
      "weighted avg      0.654     0.657     0.652     16575\n",
      "\n"
     ]
    }
   ],
   "source": [
    "from sklearn.metrics import classification_report\n",
    "from sklearn.metrics import accuracy_score\n",
    "\n",
    "target_names = ['codominant', 'dominant', 'intermediate', 'suppressed']\n",
    "\n",
    "print(classification_report(y, preds, target_names=target_names, digits=3))"
   ]
  },
  {
   "cell_type": "code",
   "execution_count": 34,
   "metadata": {},
   "outputs": [
    {
     "name": "stdout",
     "output_type": "stream",
     "text": [
      "Optimization terminated successfully.\n",
      "         Current function value: 0.764867\n",
      "         Iterations 9\n"
     ]
    }
   ],
   "source": [
    "#need to use statsmodel to get stat_summary info?\n",
    "\n",
    "import statsmodels.formula.api as smf\n",
    "\n",
    "#this formulatio has non-significant variables removed already, otherwise there are convergence issues\n",
    "TMlogit = smf.mnlogit('tree_crown_class ~ tree_obs_id2 + tree_spp2 + tree_height + tree_ba + tree_height_cont + ht_percentile_plot + BA_percentile_plot', reduced_data)                   \n",
    "                      \n",
    "                    \n",
    "TMlogit_fit = TMlogit.fit()"
   ]
  },
  {
   "cell_type": "code",
   "execution_count": 35,
   "metadata": {
    "scrolled": false
   },
   "outputs": [
    {
     "data": {
      "text/html": [
       "<table class=\"simpletable\">\n",
       "<caption>MNLogit Regression Results</caption>\n",
       "<tr>\n",
       "  <th>Dep. Variable:</th>           <td>y</td>        <th>  No. Observations:  </th>  <td> 30828</td> \n",
       "</tr>\n",
       "<tr>\n",
       "  <th>Model:</th>                <td>MNLogit</td>     <th>  Df Residuals:      </th>  <td> 30804</td> \n",
       "</tr>\n",
       "<tr>\n",
       "  <th>Method:</th>                 <td>MLE</td>       <th>  Df Model:          </th>  <td>    21</td> \n",
       "</tr>\n",
       "<tr>\n",
       "  <th>Date:</th>            <td>Sat, 30 Nov 2019</td> <th>  Pseudo R-squ.:     </th>  <td>0.3555</td> \n",
       "</tr>\n",
       "<tr>\n",
       "  <th>Time:</th>                <td>11:59:54</td>     <th>  Log-Likelihood:    </th> <td> -23579.</td>\n",
       "</tr>\n",
       "<tr>\n",
       "  <th>converged:</th>             <td>True</td>       <th>  LL-Null:           </th> <td> -36587.</td>\n",
       "</tr>\n",
       "<tr>\n",
       "  <th>Covariance Type:</th>     <td>nonrobust</td>    <th>  LLR p-value:       </th>  <td> 0.000</td> \n",
       "</tr>\n",
       "</table>\n",
       "<table class=\"simpletable\">\n",
       "<tr>\n",
       "    <th>y=tree_crown_class[dominant]</th>      <th>coef</th>     <th>std err</th>      <th>z</th>      <th>P>|z|</th>  <th>[0.025</th>    <th>0.975]</th>  \n",
       "</tr>\n",
       "<tr>\n",
       "  <th>Intercept</th>                        <td>   -5.5301</td> <td>    0.117</td> <td>  -47.407</td> <td> 0.000</td> <td>   -5.759</td> <td>   -5.302</td>\n",
       "</tr>\n",
       "<tr>\n",
       "  <th>tree_obs_id2</th>                     <td>   -0.0211</td> <td>    0.004</td> <td>   -6.029</td> <td> 0.000</td> <td>   -0.028</td> <td>   -0.014</td>\n",
       "</tr>\n",
       "<tr>\n",
       "  <th>tree_spp2</th>                        <td>   -0.0210</td> <td>    0.005</td> <td>   -3.852</td> <td> 0.000</td> <td>   -0.032</td> <td>   -0.010</td>\n",
       "</tr>\n",
       "<tr>\n",
       "  <th>tree_height</th>                      <td>    0.6948</td> <td>    0.059</td> <td>   11.849</td> <td> 0.000</td> <td>    0.580</td> <td>    0.810</td>\n",
       "</tr>\n",
       "<tr>\n",
       "  <th>tree_ba</th>                          <td>    0.8707</td> <td>    0.063</td> <td>   13.915</td> <td> 0.000</td> <td>    0.748</td> <td>    0.993</td>\n",
       "</tr>\n",
       "<tr>\n",
       "  <th>tree_height_cont</th>                 <td>   -0.6632</td> <td>    0.059</td> <td>  -11.273</td> <td> 0.000</td> <td>   -0.779</td> <td>   -0.548</td>\n",
       "</tr>\n",
       "<tr>\n",
       "  <th>ht_percentile_plot</th>               <td>    2.7464</td> <td>    0.087</td> <td>   31.600</td> <td> 0.000</td> <td>    2.576</td> <td>    2.917</td>\n",
       "</tr>\n",
       "<tr>\n",
       "  <th>BA_percentile_plot</th>               <td>    2.4215</td> <td>    0.100</td> <td>   24.225</td> <td> 0.000</td> <td>    2.226</td> <td>    2.617</td>\n",
       "</tr>\n",
       "<tr>\n",
       "  <th>y=tree_crown_class[intermediate]</th>    <th>coef</th>     <th>std err</th>      <th>z</th>      <th>P>|z|</th>  <th>[0.025</th>    <th>0.975]</th>  \n",
       "</tr>\n",
       "<tr>\n",
       "  <th>Intercept</th>                        <td>    3.7105</td> <td>    0.113</td> <td>   32.754</td> <td> 0.000</td> <td>    3.488</td> <td>    3.932</td>\n",
       "</tr>\n",
       "<tr>\n",
       "  <th>tree_obs_id2</th>                     <td>    0.0196</td> <td>    0.004</td> <td>    4.499</td> <td> 0.000</td> <td>    0.011</td> <td>    0.028</td>\n",
       "</tr>\n",
       "<tr>\n",
       "  <th>tree_spp2</th>                        <td>    0.0520</td> <td>    0.005</td> <td>    9.538</td> <td> 0.000</td> <td>    0.041</td> <td>    0.063</td>\n",
       "</tr>\n",
       "<tr>\n",
       "  <th>tree_height</th>                      <td>   -0.6110</td> <td>    0.072</td> <td>   -8.506</td> <td> 0.000</td> <td>   -0.752</td> <td>   -0.470</td>\n",
       "</tr>\n",
       "<tr>\n",
       "  <th>tree_ba</th>                          <td>   -0.4240</td> <td>    0.130</td> <td>   -3.263</td> <td> 0.001</td> <td>   -0.679</td> <td>   -0.169</td>\n",
       "</tr>\n",
       "<tr>\n",
       "  <th>tree_height_cont</th>                 <td>    0.5497</td> <td>    0.072</td> <td>    7.628</td> <td> 0.000</td> <td>    0.408</td> <td>    0.691</td>\n",
       "</tr>\n",
       "<tr>\n",
       "  <th>ht_percentile_plot</th>               <td>   -2.9707</td> <td>    0.124</td> <td>  -23.919</td> <td> 0.000</td> <td>   -3.214</td> <td>   -2.727</td>\n",
       "</tr>\n",
       "<tr>\n",
       "  <th>BA_percentile_plot</th>               <td>   -2.8612</td> <td>    0.141</td> <td>  -20.234</td> <td> 0.000</td> <td>   -3.138</td> <td>   -2.584</td>\n",
       "</tr>\n",
       "<tr>\n",
       "  <th>y=tree_crown_class[suppressed]</th>    <th>coef</th>     <th>std err</th>      <th>z</th>      <th>P>|z|</th>  <th>[0.025</th>    <th>0.975]</th>  \n",
       "</tr>\n",
       "<tr>\n",
       "  <th>Intercept</th>                      <td>    6.4957</td> <td>    0.169</td> <td>   38.533</td> <td> 0.000</td> <td>    6.165</td> <td>    6.826</td>\n",
       "</tr>\n",
       "<tr>\n",
       "  <th>tree_obs_id2</th>                   <td>    0.0481</td> <td>    0.007</td> <td>    6.872</td> <td> 0.000</td> <td>    0.034</td> <td>    0.062</td>\n",
       "</tr>\n",
       "<tr>\n",
       "  <th>tree_spp2</th>                      <td>    0.0578</td> <td>    0.008</td> <td>    6.895</td> <td> 0.000</td> <td>    0.041</td> <td>    0.074</td>\n",
       "</tr>\n",
       "<tr>\n",
       "  <th>tree_height</th>                    <td>   -0.8239</td> <td>    0.116</td> <td>   -7.108</td> <td> 0.000</td> <td>   -1.051</td> <td>   -0.597</td>\n",
       "</tr>\n",
       "<tr>\n",
       "  <th>tree_ba</th>                        <td>    1.2346</td> <td>    0.232</td> <td>    5.327</td> <td> 0.000</td> <td>    0.780</td> <td>    1.689</td>\n",
       "</tr>\n",
       "<tr>\n",
       "  <th>tree_height_cont</th>               <td>    0.6774</td> <td>    0.116</td> <td>    5.829</td> <td> 0.000</td> <td>    0.450</td> <td>    0.905</td>\n",
       "</tr>\n",
       "<tr>\n",
       "  <th>ht_percentile_plot</th>             <td>   -6.5746</td> <td>    0.310</td> <td>  -21.215</td> <td> 0.000</td> <td>   -7.182</td> <td>   -5.967</td>\n",
       "</tr>\n",
       "<tr>\n",
       "  <th>BA_percentile_plot</th>             <td>   -5.8534</td> <td>    0.299</td> <td>  -19.567</td> <td> 0.000</td> <td>   -6.440</td> <td>   -5.267</td>\n",
       "</tr>\n",
       "</table>"
      ],
      "text/plain": [
       "<class 'statsmodels.iolib.summary.Summary'>\n",
       "\"\"\"\n",
       "                          MNLogit Regression Results                          \n",
       "==============================================================================\n",
       "Dep. Variable:                      y   No. Observations:                30828\n",
       "Model:                        MNLogit   Df Residuals:                    30804\n",
       "Method:                           MLE   Df Model:                           21\n",
       "Date:                Sat, 30 Nov 2019   Pseudo R-squ.:                  0.3555\n",
       "Time:                        11:59:54   Log-Likelihood:                -23579.\n",
       "converged:                       True   LL-Null:                       -36587.\n",
       "Covariance Type:            nonrobust   LLR p-value:                     0.000\n",
       "==================================================================================================\n",
       "    y=tree_crown_class[dominant]       coef    std err          z      P>|z|      [0.025      0.975]\n",
       "----------------------------------------------------------------------------------------------------\n",
       "Intercept                           -5.5301      0.117    -47.407      0.000      -5.759      -5.302\n",
       "tree_obs_id2                        -0.0211      0.004     -6.029      0.000      -0.028      -0.014\n",
       "tree_spp2                           -0.0210      0.005     -3.852      0.000      -0.032      -0.010\n",
       "tree_height                          0.6948      0.059     11.849      0.000       0.580       0.810\n",
       "tree_ba                              0.8707      0.063     13.915      0.000       0.748       0.993\n",
       "tree_height_cont                    -0.6632      0.059    -11.273      0.000      -0.779      -0.548\n",
       "ht_percentile_plot                   2.7464      0.087     31.600      0.000       2.576       2.917\n",
       "BA_percentile_plot                   2.4215      0.100     24.225      0.000       2.226       2.617\n",
       "----------------------------------------------------------------------------------------------------\n",
       "y=tree_crown_class[intermediate]       coef    std err          z      P>|z|      [0.025      0.975]\n",
       "----------------------------------------------------------------------------------------------------\n",
       "Intercept                            3.7105      0.113     32.754      0.000       3.488       3.932\n",
       "tree_obs_id2                         0.0196      0.004      4.499      0.000       0.011       0.028\n",
       "tree_spp2                            0.0520      0.005      9.538      0.000       0.041       0.063\n",
       "tree_height                         -0.6110      0.072     -8.506      0.000      -0.752      -0.470\n",
       "tree_ba                             -0.4240      0.130     -3.263      0.001      -0.679      -0.169\n",
       "tree_height_cont                     0.5497      0.072      7.628      0.000       0.408       0.691\n",
       "ht_percentile_plot                  -2.9707      0.124    -23.919      0.000      -3.214      -2.727\n",
       "BA_percentile_plot                  -2.8612      0.141    -20.234      0.000      -3.138      -2.584\n",
       "----------------------------------------------------------------------------------------------------\n",
       "y=tree_crown_class[suppressed]       coef    std err          z      P>|z|      [0.025      0.975]\n",
       "--------------------------------------------------------------------------------------------------\n",
       "Intercept                          6.4957      0.169     38.533      0.000       6.165       6.826\n",
       "tree_obs_id2                       0.0481      0.007      6.872      0.000       0.034       0.062\n",
       "tree_spp2                          0.0578      0.008      6.895      0.000       0.041       0.074\n",
       "tree_height                       -0.8239      0.116     -7.108      0.000      -1.051      -0.597\n",
       "tree_ba                            1.2346      0.232      5.327      0.000       0.780       1.689\n",
       "tree_height_cont                   0.6774      0.116      5.829      0.000       0.450       0.905\n",
       "ht_percentile_plot                -6.5746      0.310    -21.215      0.000      -7.182      -5.967\n",
       "BA_percentile_plot                -5.8534      0.299    -19.567      0.000      -6.440      -5.267\n",
       "==================================================================================================\n",
       "\"\"\""
      ]
     },
     "execution_count": 35,
     "metadata": {},
     "output_type": "execute_result"
    }
   ],
   "source": [
    "TMlogit_fit.summary()"
   ]
  },
  {
   "cell_type": "code",
   "execution_count": null,
   "metadata": {},
   "outputs": [],
   "source": []
  }
 ],
 "metadata": {
  "kernelspec": {
   "display_name": "Python 3",
   "language": "python",
   "name": "python3"
  },
  "language_info": {
   "codemirror_mode": {
    "name": "ipython",
    "version": 3
   },
   "file_extension": ".py",
   "mimetype": "text/x-python",
   "name": "python",
   "nbconvert_exporter": "python",
   "pygments_lexer": "ipython3",
   "version": "3.7.3"
  }
 },
 "nbformat": 4,
 "nbformat_minor": 2
}
