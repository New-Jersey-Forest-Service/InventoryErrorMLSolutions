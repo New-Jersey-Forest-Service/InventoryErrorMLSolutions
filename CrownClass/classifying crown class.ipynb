{
 "cells": [
  {
   "cell_type": "code",
   "execution_count": 1,
   "metadata": {},
   "outputs": [],
   "source": [
    "## Lib's needed\n",
    "import math\n",
    "import pandas as pd\n",
    "import numpy as np\n",
    "import seaborn as sns\n",
    "import matplotlib.pyplot as plt\n",
    "from pylab import rcParams\n",
    "from __future__ import print_function\n",
    "# Import for spliting the data set\n",
    "from sklearn.model_selection import StratifiedShuffleSplit\n",
    "from sklearn.preprocessing import StandardScaler\n",
    "# Imports for classificaiton \n",
    "from sklearn.neighbors import KNeighborsClassifier\n",
    "from sklearn.ensemble import RandomForestClassifier\n",
    "from sklearn.naive_bayes import GaussianNB\n",
    "from sklearn.naive_bayes import BernoulliNB\n",
    "from sklearn.svm import SVC\n",
    "from sklearn.metrics import classification_report\n",
    "from sklearn.model_selection import cross_val_score\n",
    "from sklearn.decomposition import PCA \n",
    "from sklearn.pipeline import Pipeline\n",
    "from sklearn import metrics as mt\n",
    "\n",
    "# Set the figure sizes for the project \n",
    "rcParams['figure.figsize'] = 10, 10\n",
    "# Import my custom lib \n",
    "# from StatsHelper import stats, plots, data_transformations"
   ]
  },
  {
   "cell_type": "markdown",
   "metadata": {},
   "source": [
    "## Bring in data and perform some EDA"
   ]
  },
  {
   "cell_type": "code",
   "execution_count": 2,
   "metadata": {},
   "outputs": [],
   "source": [
    "def corr_matrix(df):\n",
    "    '''Generates Correlation Matrix'''\n",
    "    corr = df.corr()\n",
    "    # Generate a mask for the upper triangle\n",
    "    mask = np.zeros_like(corr, dtype = np.bool)\n",
    "    mask[np.triu_indices_from(mask)] = True\n",
    "    f, ax = plt.subplots(figsize = (15, 10))\n",
    "    colormap = sns.diverging_palette(240, 10, n = 9, as_cmap = True)\n",
    "    sns.heatmap(corr, mask = mask, cmap = colormap, center = 0,\n",
    "                square = True, linewidths = .5, cbar_kws = {\"shrink\": 1})\n",
    "    \n",
    "# Bring in data\n",
    "def create_data(filename):\n",
    "    ''' \n",
    "    Bring in raw data file \n",
    "    Returns a dataframe\n",
    "    '''\n",
    "    df = pd.read_csv(filename)\n",
    "    # Print the shape of the data\n",
    "    shape = df.shape\n",
    "    print(\"There are\", shape[0], \"rows and\", shape[1],\"columns\")\n",
    "    print(\"------------------------------------------------------\")\n",
    "    # Get the first 5 rows \n",
    "    print(df.head())\n",
    "    print(\"------------------------------------------------------\")\n",
    "    # Get the variable informaton in the data\n",
    "    print(df.info())\n",
    "    # Fill in the NaN's in the data\n",
    "    df = df.fillna(0)\n",
    "\n",
    "    return df"
   ]
  },
  {
   "cell_type": "code",
   "execution_count": 3,
   "metadata": {
    "scrolled": true
   },
   "outputs": [
    {
     "name": "stdout",
     "output_type": "stream",
     "text": [
      "There are 16575 rows and 66 columns\n",
      "------------------------------------------------------\n",
      "   CLUSTER     ID  tree_obs_id tree_spp  tree_dbh  tree_stems  tree_height  \\\n",
      "0      316  11638            5     PIRI        20           1           65   \n",
      "1      316  11639            6     PIRI        10           1           55   \n",
      "2      316  11640            7     PIRI        11           1           50   \n",
      "3       52     40            2     PIRI         8           1           40   \n",
      "4       53     41           11    CHTH2        13           1           65   \n",
      "\n",
      "   source_tree_height tree_crown_class  source_tree_crown_class  ...  \\\n",
      "0                   6       codominant                        6  ...   \n",
      "1                   6         dominant                        6  ...   \n",
      "2                   6       codominant                        6  ...   \n",
      "3                   6     intermediate                        6  ...   \n",
      "4                   6       codominant                        6  ...   \n",
      "\n",
      "   inventory_over_baf  GrndQUIL  GrndSMILA2  CRUISER  MUSYM  Wetland  \\\n",
      "0                  10         N           Y      AMB   LakB        N   \n",
      "1                  10         N           Y      AMB   LakB        N   \n",
      "2                  10         N           Y      AMB   LakB        N   \n",
      "3                  30         N           N      SGH  FmgAt        Y   \n",
      "4                  30         N           Y      SGH  FmgAt        Y   \n",
      "\n",
      "   CountOfOVER_OBS OverObs_CountCheck_over_id   under_id SumOfunder_count  \n",
      "0               14                  POKWAR047  POKWAR047              1.0  \n",
      "1               14                  POKWAR047  POKWAR047              1.0  \n",
      "2               14                  POKWAR047  POKWAR047              1.0  \n",
      "3               10                  cswwar006  cswwar006             18.0  \n",
      "4               12                  cswwar007  cswwar007              2.0  \n",
      "\n",
      "[5 rows x 66 columns]\n",
      "------------------------------------------------------\n",
      "<class 'pandas.core.frame.DataFrame'>\n",
      "RangeIndex: 16575 entries, 0 to 16574\n",
      "Data columns (total 66 columns):\n",
      "CLUSTER                                               16575 non-null int64\n",
      "ID                                                    16575 non-null int64\n",
      "tree_obs_id                                           16575 non-null int64\n",
      "tree_spp                                              16575 non-null object\n",
      "tree_dbh                                              16575 non-null int64\n",
      "tree_stems                                            16575 non-null int64\n",
      "tree_height                                           16575 non-null int64\n",
      "source_tree_height                                    16575 non-null int64\n",
      "tree_crown_class                                      16575 non-null object\n",
      "source_tree_crown_class                               16575 non-null int64\n",
      "tree_crown_cond                                       16575 non-null int64\n",
      "tree_height_class                                     16575 non-null int64\n",
      "source_tree_height_class                              16575 non-null int64\n",
      "source_tree_user2                                     16575 non-null int64\n",
      "tree_stems_per                                        16575 non-null float64\n",
      "tree_ba                                               16575 non-null float64\n",
      "tree_rel_dens                                         16575 non-null float64\n",
      "tree_timber                                           16575 non-null object\n",
      "source_tree_timber                                    16575 non-null int64\n",
      "tree_product                                          16575 non-null object\n",
      "source_tree_product                                   16575 non-null int64\n",
      "tree_saw_ht                                           16575 non-null int64\n",
      "source_tree_saw_ht                                    16575 non-null int64\n",
      "tree_pulp_ht                                          16575 non-null float64\n",
      "source_tree_pulp_ht                                   16575 non-null int64\n",
      "tree_merch_ht                                         16575 non-null float64\n",
      "tree_bdft_vol                                         16575 non-null float64\n",
      "tree_net_bdft_vol                                     16575 non-null float64\n",
      "tree_saw_vol                                          16575 non-null float64\n",
      "tree_net_saw_vol                                      16575 non-null float64\n",
      "tree_pulp_vol                                         16575 non-null float64\n",
      "tree_net_pulp_vol                                     16575 non-null float64\n",
      "tree_cuft_vol                                         16575 non-null float64\n",
      "tree_net_cuft_vol                                     16575 non-null float64\n",
      "tree_biomass_root                                     16575 non-null float64\n",
      "tree_biomass_branch                                   16575 non-null float64\n",
      "tree_biomass_stem                                     16575 non-null float64\n",
      "tree_biomass_bark                                     16575 non-null float64\n",
      "tree_biomass_foliage                                  16575 non-null float64\n",
      "tree_biomass_above                                    16575 non-null float64\n",
      "tree_biomass_total                                    16575 non-null float64\n",
      "tree_cord_vol                                         16575 non-null float64\n",
      "tree_net_cord_vol                                     16575 non-null float64\n",
      "tree_ton_vol                                          16575 non-null float64\n",
      "tree_net_ton_vol                                      16575 non-null float64\n",
      "tree_pulp_cord_vol                                    16575 non-null float64\n",
      "tree_net_pulp_cord_vol                                16575 non-null float64\n",
      "tree_pulp_ton_vol                                     16575 non-null float64\n",
      "tree_net_pulp_ton_vol                                 16575 non-null float64\n",
      "tree_saw_cord_vol                                     16575 non-null float64\n",
      "tree_net_saw_cord_vol                                 16575 non-null float64\n",
      "tree_saw_ton_vol                                      16575 non-null float64\n",
      "tree_net_saw_ton_vol                                  16575 non-null float64\n",
      "OverOb_wOverIDForTypBAFGrndPresCrzrSoilWet_over_id    16575 non-null object\n",
      "stand_id                                              16575 non-null object\n",
      "STAND                                                 16575 non-null int64\n",
      "inventory_over_baf                                    16575 non-null int64\n",
      "GrndQUIL                                              16575 non-null object\n",
      "GrndSMILA2                                            16575 non-null object\n",
      "CRUISER                                               16575 non-null object\n",
      "MUSYM                                                 16575 non-null object\n",
      "Wetland                                               16575 non-null object\n",
      "CountOfOVER_OBS                                       16575 non-null int64\n",
      "OverObs_CountCheck_over_id                            16575 non-null object\n",
      "under_id                                              14575 non-null object\n",
      "SumOfunder_count                                      14575 non-null float64\n",
      "dtypes: float64(33), int64(20), object(13)\n",
      "memory usage: 8.3+ MB\n",
      "None\n"
     ]
    }
   ],
   "source": [
    "filename = \"FinalOverObTableWAR.csv\"\n",
    "raw_trees = create_data(filename)"
   ]
  },
  {
   "cell_type": "code",
   "execution_count": 61,
   "metadata": {},
   "outputs": [
    {
     "data": {
      "text/plain": [
       "<matplotlib.axes._subplots.AxesSubplot at 0x1a19a93990>"
      ]
     },
     "execution_count": 61,
     "metadata": {},
     "output_type": "execute_result"
    },
    {
     "data": {
      "image/png": "[encoded data removed]",
      "text/plain": [
       "<Figure size 720x720 with 1 Axes>"
      ]
     },
     "metadata": {},
     "output_type": "display_data"
    }
   ],
   "source": [
    "# Tree DBH vs Tree Crown Class\n",
    "sns.violinplot(x = 'tree_crown_class', y = 'tree_dbh', data = raw_trees)"
   ]
  },
  {
   "cell_type": "code",
   "execution_count": 58,
   "metadata": {},
   "outputs": [
    {
     "data": {
      "text/plain": [
       "<matplotlib.axes._subplots.AxesSubplot at 0x1a198c56d0>"
      ]
     },
     "execution_count": 58,
     "metadata": {},
     "output_type": "execute_result"
    },
    {
     "data": {
      "image/png": "[encoded data removed]",
      "text/plain": [
       "<Figure size 720x720 with 1 Axes>"
      ]
     },
     "metadata": {},
     "output_type": "display_data"
    }
   ],
   "source": [
    "# Tree Height vs Tree Crown Class\n",
    "sns.violinplot(x = 'tree_crown_class', y = 'tree_height', data = raw_trees)"
   ]
  },
  {
   "cell_type": "code",
   "execution_count": 57,
   "metadata": {},
   "outputs": [
    {
     "data": {
      "text/plain": [
       "<matplotlib.axes._subplots.AxesSubplot at 0x1a1abdd4d0>"
      ]
     },
     "execution_count": 57,
     "metadata": {},
     "output_type": "execute_result"
    },
    {
     "data": {
      "image/png": "[encoded data removed]",
      "text/plain": [
       "<Figure size 720x720 with 1 Axes>"
      ]
     },
     "metadata": {},
     "output_type": "display_data"
    }
   ],
   "source": [
    "# Tree Crown Condtion vs Tree Crown Class\n",
    "sns.violinplot(x = 'tree_crown_class', y = 'tree_ba', data = raw_trees)"
   ]
  },
  {
   "cell_type": "code",
   "execution_count": 78,
   "metadata": {},
   "outputs": [],
   "source": [
    "# Get the distribution of each crown class\n",
    "dominate = raw_trees.loc[raw_trees['tree_crown_class'] == 'dominant']\n",
    "codominate = raw_trees.loc[raw_trees['tree_crown_class'] == 'codominant']\n",
    "intermediant = raw_trees.loc[raw_trees['tree_crown_class'] == 'intermediate']\n",
    "suppressed = raw_trees.loc[raw_trees['tree_crown_class'] == 'suppressed']"
   ]
  },
  {
   "cell_type": "code",
   "execution_count": 85,
   "metadata": {
    "scrolled": false
   },
   "outputs": [
    {
     "data": {
      "text/plain": [
       "Text(0,0.5,'DBH')"
      ]
     },
     "execution_count": 85,
     "metadata": {},
     "output_type": "execute_result"
    },
    {
     "data": {
      "image/png": "[encoded data removed]",
      "text/plain": [
       "<Figure size 720x720 with 1 Axes>"
      ]
     },
     "metadata": {},
     "output_type": "display_data"
    }
   ],
   "source": [
    "sns.kdeplot(dominate['tree_height'], dominate['tree_dbh'], shade=True)\n",
    "title = \"Distribution of Tree Height and DBH for the Dominate Class\"\n",
    "xlabel = \"Tree Height\"\n",
    "ylabel = \"DBH\"\n",
    "plt.title(title)\n",
    "plt.xlabel(xlabel)\n",
    "plt.ylabel(ylabel)"
   ]
  },
  {
   "cell_type": "code",
   "execution_count": 86,
   "metadata": {},
   "outputs": [
    {
     "data": {
      "text/plain": [
       "Text(0,0.5,'DBH')"
      ]
     },
     "execution_count": 86,
     "metadata": {},
     "output_type": "execute_result"
    },
    {
     "data": {
      "image/png": "[encoded data removed]",
      "text/plain": [
       "<Figure size 720x720 with 1 Axes>"
      ]
     },
     "metadata": {},
     "output_type": "display_data"
    }
   ],
   "source": [
    "sns.kdeplot(codominate['tree_height'], codominate['tree_dbh'], shade=True)\n",
    "title = \"Distribution of Tree Height and DBH for the Codominate Class\"\n",
    "xlabel = \"Tree Height\"\n",
    "ylabel = \"DBH\"\n",
    "plt.title(title)\n",
    "plt.xlabel(xlabel)\n",
    "plt.ylabel(ylabel)"
   ]
  },
  {
   "cell_type": "code",
   "execution_count": 87,
   "metadata": {},
   "outputs": [
    {
     "data": {
      "text/plain": [
       "Text(0,0.5,'DBH')"
      ]
     },
     "execution_count": 87,
     "metadata": {},
     "output_type": "execute_result"
    },
    {
     "data": {
      "image/png": "[encoded data removed]",
      "text/plain": [
       "<Figure size 720x720 with 1 Axes>"
      ]
     },
     "metadata": {},
     "output_type": "display_data"
    }
   ],
   "source": [
    "sns.kdeplot(intermediant['tree_height'], intermediant['tree_dbh'], shade=True)\n",
    "title = \"Distribution of Tree Height and DBH for the Intermediant Class\"\n",
    "xlabel = \"Tree Height\"\n",
    "ylabel = \"DBH\"\n",
    "plt.title(title)\n",
    "plt.xlabel(xlabel)\n",
    "plt.ylabel(ylabel)"
   ]
  },
  {
   "cell_type": "code",
   "execution_count": 88,
   "metadata": {},
   "outputs": [
    {
     "data": {
      "text/plain": [
       "Text(0,0.5,'DBH')"
      ]
     },
     "execution_count": 88,
     "metadata": {},
     "output_type": "execute_result"
    },
    {
     "data": {
      "image/png": "[encoded data removed]",
      "text/plain": [
       "<Figure size 720x720 with 1 Axes>"
      ]
     },
     "metadata": {},
     "output_type": "display_data"
    }
   ],
   "source": [
    "sns.kdeplot(suppressed['tree_height'], suppressed['tree_dbh'], shade=True)\n",
    "title = \"Distribution of Tree Height and DBH for the Suppressed Class\"\n",
    "xlabel = \"Tree Height\"\n",
    "ylabel = \"DBH\"\n",
    "plt.title(title)\n",
    "plt.xlabel(xlabel)\n",
    "plt.ylabel(ylabel)"
   ]
  },
  {
   "cell_type": "code",
   "execution_count": 91,
   "metadata": {},
   "outputs": [
    {
     "data": {
      "image/png": "[encoded data removed]",
      "text/plain": [
       "<Figure size 1080x720 with 2 Axes>"
      ]
     },
     "metadata": {},
     "output_type": "display_data"
    }
   ],
   "source": [
    "corr_matrix(raw_trees)"
   ]
  },
  {
   "cell_type": "markdown",
   "metadata": {},
   "source": [
    "## Splitting the data into training and testing sets\n",
    "\n",
    "The goal of performing cross-validation is to split our data into a training set and test set. The training set is split up into multiple validation sets. We are going to use stratified K-fold cross-validation with 10 splits (K=10) for our classification tasks. This is because our data is unbalanced. There is a total of 17,426 observations in our data set. Out of all the observations, 8,022 observations are made up of co-dominate trees (about half). Stratified K-fold cross-validation ensures that each of our training sets contains an equal proportion of each unbalanced variable."
   ]
  },
  {
   "cell_type": "code",
   "execution_count": 4,
   "metadata": {},
   "outputs": [
    {
     "data": {
      "text/html": [
       "<div>\n",
       "<style scoped>\n",
       "    .dataframe tbody tr th:only-of-type {\n",
       "        vertical-align: middle;\n",
       "    }\n",
       "\n",
       "    .dataframe tbody tr th {\n",
       "        vertical-align: top;\n",
       "    }\n",
       "\n",
       "    .dataframe thead th {\n",
       "        text-align: right;\n",
       "    }\n",
       "</style>\n",
       "<table border=\"1\" class=\"dataframe\">\n",
       "  <thead>\n",
       "    <tr style=\"text-align: right;\">\n",
       "      <th></th>\n",
       "      <th>CLUSTER</th>\n",
       "      <th>ID</th>\n",
       "      <th>tree_obs_id</th>\n",
       "      <th>tree_spp</th>\n",
       "      <th>tree_dbh</th>\n",
       "      <th>tree_stems</th>\n",
       "      <th>tree_height</th>\n",
       "      <th>source_tree_height</th>\n",
       "      <th>tree_crown_class</th>\n",
       "      <th>source_tree_crown_class</th>\n",
       "      <th>...</th>\n",
       "      <th>inventory_over_baf</th>\n",
       "      <th>GrndQUIL</th>\n",
       "      <th>GrndSMILA2</th>\n",
       "      <th>CRUISER</th>\n",
       "      <th>MUSYM</th>\n",
       "      <th>Wetland</th>\n",
       "      <th>CountOfOVER_OBS</th>\n",
       "      <th>OverObs_CountCheck_over_id</th>\n",
       "      <th>under_id</th>\n",
       "      <th>SumOfunder_count</th>\n",
       "    </tr>\n",
       "  </thead>\n",
       "  <tbody>\n",
       "    <tr>\n",
       "      <th>0</th>\n",
       "      <td>316</td>\n",
       "      <td>11638</td>\n",
       "      <td>5</td>\n",
       "      <td>PIRI</td>\n",
       "      <td>20</td>\n",
       "      <td>1</td>\n",
       "      <td>65</td>\n",
       "      <td>6</td>\n",
       "      <td>codominant</td>\n",
       "      <td>6</td>\n",
       "      <td>...</td>\n",
       "      <td>10</td>\n",
       "      <td>N</td>\n",
       "      <td>Y</td>\n",
       "      <td>AMB</td>\n",
       "      <td>LakB</td>\n",
       "      <td>N</td>\n",
       "      <td>14</td>\n",
       "      <td>POKWAR047</td>\n",
       "      <td>POKWAR047</td>\n",
       "      <td>1.0</td>\n",
       "    </tr>\n",
       "    <tr>\n",
       "      <th>1</th>\n",
       "      <td>316</td>\n",
       "      <td>11639</td>\n",
       "      <td>6</td>\n",
       "      <td>PIRI</td>\n",
       "      <td>10</td>\n",
       "      <td>1</td>\n",
       "      <td>55</td>\n",
       "      <td>6</td>\n",
       "      <td>dominant</td>\n",
       "      <td>6</td>\n",
       "      <td>...</td>\n",
       "      <td>10</td>\n",
       "      <td>N</td>\n",
       "      <td>Y</td>\n",
       "      <td>AMB</td>\n",
       "      <td>LakB</td>\n",
       "      <td>N</td>\n",
       "      <td>14</td>\n",
       "      <td>POKWAR047</td>\n",
       "      <td>POKWAR047</td>\n",
       "      <td>1.0</td>\n",
       "    </tr>\n",
       "    <tr>\n",
       "      <th>2</th>\n",
       "      <td>316</td>\n",
       "      <td>11640</td>\n",
       "      <td>7</td>\n",
       "      <td>PIRI</td>\n",
       "      <td>11</td>\n",
       "      <td>1</td>\n",
       "      <td>50</td>\n",
       "      <td>6</td>\n",
       "      <td>codominant</td>\n",
       "      <td>6</td>\n",
       "      <td>...</td>\n",
       "      <td>10</td>\n",
       "      <td>N</td>\n",
       "      <td>Y</td>\n",
       "      <td>AMB</td>\n",
       "      <td>LakB</td>\n",
       "      <td>N</td>\n",
       "      <td>14</td>\n",
       "      <td>POKWAR047</td>\n",
       "      <td>POKWAR047</td>\n",
       "      <td>1.0</td>\n",
       "    </tr>\n",
       "    <tr>\n",
       "      <th>3</th>\n",
       "      <td>52</td>\n",
       "      <td>40</td>\n",
       "      <td>2</td>\n",
       "      <td>PIRI</td>\n",
       "      <td>8</td>\n",
       "      <td>1</td>\n",
       "      <td>40</td>\n",
       "      <td>6</td>\n",
       "      <td>intermediate</td>\n",
       "      <td>6</td>\n",
       "      <td>...</td>\n",
       "      <td>30</td>\n",
       "      <td>N</td>\n",
       "      <td>N</td>\n",
       "      <td>SGH</td>\n",
       "      <td>FmgAt</td>\n",
       "      <td>Y</td>\n",
       "      <td>10</td>\n",
       "      <td>cswwar006</td>\n",
       "      <td>cswwar006</td>\n",
       "      <td>18.0</td>\n",
       "    </tr>\n",
       "    <tr>\n",
       "      <th>4</th>\n",
       "      <td>53</td>\n",
       "      <td>41</td>\n",
       "      <td>11</td>\n",
       "      <td>CHTH2</td>\n",
       "      <td>13</td>\n",
       "      <td>1</td>\n",
       "      <td>65</td>\n",
       "      <td>6</td>\n",
       "      <td>codominant</td>\n",
       "      <td>6</td>\n",
       "      <td>...</td>\n",
       "      <td>30</td>\n",
       "      <td>N</td>\n",
       "      <td>Y</td>\n",
       "      <td>SGH</td>\n",
       "      <td>FmgAt</td>\n",
       "      <td>Y</td>\n",
       "      <td>12</td>\n",
       "      <td>cswwar007</td>\n",
       "      <td>cswwar007</td>\n",
       "      <td>2.0</td>\n",
       "    </tr>\n",
       "  </tbody>\n",
       "</table>\n",
       "<p>5 rows × 66 columns</p>\n",
       "</div>"
      ],
      "text/plain": [
       "   CLUSTER     ID  tree_obs_id tree_spp  tree_dbh  tree_stems  tree_height  \\\n",
       "0      316  11638            5     PIRI        20           1           65   \n",
       "1      316  11639            6     PIRI        10           1           55   \n",
       "2      316  11640            7     PIRI        11           1           50   \n",
       "3       52     40            2     PIRI         8           1           40   \n",
       "4       53     41           11    CHTH2        13           1           65   \n",
       "\n",
       "   source_tree_height tree_crown_class  source_tree_crown_class  ...  \\\n",
       "0                   6       codominant                        6  ...   \n",
       "1                   6         dominant                        6  ...   \n",
       "2                   6       codominant                        6  ...   \n",
       "3                   6     intermediate                        6  ...   \n",
       "4                   6       codominant                        6  ...   \n",
       "\n",
       "   inventory_over_baf  GrndQUIL  GrndSMILA2  CRUISER  MUSYM  Wetland  \\\n",
       "0                  10         N           Y      AMB   LakB        N   \n",
       "1                  10         N           Y      AMB   LakB        N   \n",
       "2                  10         N           Y      AMB   LakB        N   \n",
       "3                  30         N           N      SGH  FmgAt        Y   \n",
       "4                  30         N           Y      SGH  FmgAt        Y   \n",
       "\n",
       "   CountOfOVER_OBS OverObs_CountCheck_over_id   under_id SumOfunder_count  \n",
       "0               14                  POKWAR047  POKWAR047              1.0  \n",
       "1               14                  POKWAR047  POKWAR047              1.0  \n",
       "2               14                  POKWAR047  POKWAR047              1.0  \n",
       "3               10                  cswwar006  cswwar006             18.0  \n",
       "4               12                  cswwar007  cswwar007              2.0  \n",
       "\n",
       "[5 rows x 66 columns]"
      ]
     },
     "execution_count": 4,
     "metadata": {},
     "output_type": "execute_result"
    }
   ],
   "source": [
    "raw_trees.head()"
   ]
  },
  {
   "cell_type": "code",
   "execution_count": 5,
   "metadata": {},
   "outputs": [
    {
     "data": {
      "text/plain": [
       "10"
      ]
     },
     "execution_count": 5,
     "metadata": {},
     "output_type": "execute_result"
    }
   ],
   "source": [
    "# Split the data into traning (80%) and test set (20%)\n",
    "# We are using stratified cross validation here because the majority of the\n",
    "#    individuals in the variable we want to classify are codominant\n",
    "tree_data = raw_trees\n",
    "if 'tree_crown_class' in tree_data:\n",
    "    y = tree_data['tree_crown_class'].values # get values we need \n",
    "    del tree_data['tree_crown_class']        # get rid of the class label\n",
    "    X = tree_data.values                     # use everything else to classify \n",
    "\n",
    "X = pd.get_dummies(tree_data).values\n",
    "\n",
    "# Scale attributes by the training set\n",
    "scl = StandardScaler()\n",
    "X = scl.fit_transform(X)\n",
    "\n",
    "# Split the data into 20% Test and 80% Train using StratifiedShuffleSplit\n",
    "sss = StratifiedShuffleSplit(n_splits=10, test_size=0.20, random_state=111)\n",
    "sss.get_n_splits(X, y) #retreving the splits"
   ]
  },
  {
   "cell_type": "code",
   "execution_count": 89,
   "metadata": {},
   "outputs": [
    {
     "name": "stdout",
     "output_type": "stream",
     "text": [
      "These are the Stratified Shuffle Split parameters:\n",
      "---------------------------------------------------\n",
      "StratifiedShuffleSplit(n_splits=10, random_state=111, test_size=0.2,\n",
      "            train_size=None)\n"
     ]
    }
   ],
   "source": [
    "print(\"These are the Stratified Shuffle Split parameters:\")\n",
    "print(\"---------------------------------------------------\")\n",
    "print(sss)"
   ]
  },
  {
   "cell_type": "code",
   "execution_count": 6,
   "metadata": {},
   "outputs": [
    {
     "name": "stdout",
     "output_type": "stream",
     "text": [
      "TRAIN: [ 7968 13010  3166 ...  9730  3442  2376] TEST: [12695  9400 10896 ...  2347 12289  5015]\n",
      "TRAIN: [ 9027  4914 11653 ... 15659 13836  2036] TEST: [16523  1882  6998 ...  6901 16026  2639]\n",
      "TRAIN: [ 3626 12012   780 ...  4275  8684  2544] TEST: [12136  2691 11371 ...  5807  1501  1732]\n",
      "TRAIN: [ 1287 15736  1888 ...  2566  6329 12105] TEST: [ 4374  1246  5762 ...  7367  9537 16372]\n",
      "TRAIN: [ 1587  7874  9155 ...  1767 15841 11276] TEST: [10663  5453 12831 ... 11178 13312 10650]\n",
      "TRAIN: [ 3137  7585  6743 ... 15753  2748  2011] TEST: [ 3617  3088  1009 ... 15413 10928  1974]\n",
      "TRAIN: [16423 15760  8915 ...  7807 11684 11747] TEST: [10910  3387 10672 ...  6605  5262  1597]\n",
      "TRAIN: [ 9600 11615  7841 ...  2207 14674 12395] TEST: [15750  3722 15351 ...  5257 12194  8521]\n",
      "TRAIN: [11231 11128  3426 ...  8630  3575 10873] TEST: [ 1429  8383 10026 ... 13137  4626 12952]\n",
      "TRAIN: [14871  1705  7857 ...  6898  2083  2489] TEST: [ 2951  4978   452 ... 14491  5837  7684]\n"
     ]
    }
   ],
   "source": [
    "# Create a for loop that grabs the values for each fold for traing and test sets\n",
    "for train_index, test_index in sss.split(X, y):\n",
    "    # Let's print them out just for a sanity check\n",
    "    print(\"TRAIN:\", train_index, \"TEST:\", test_index)\n",
    "    # Create the X train/test and y train/test sets\n",
    "    X_train, X_test = X[train_index], X[test_index]\n",
    "    y_train, y_test = y[train_index], y[test_index]"
   ]
  },
  {
   "cell_type": "markdown",
   "metadata": {},
   "source": [
    "## Let's Classify\n",
    "Now thaat we have our training and testing sets, we will use a few different classification mehtods. At the end of this section we will assess the precision, recall, f1-score, and support to find the best classification method. We will use PCA to evaluate feature importance and select the most relevant features."
   ]
  },
  {
   "cell_type": "markdown",
   "metadata": {},
   "source": [
    "### KNN\n",
    "Classifier implementing the k-nearest neighbors vote"
   ]
  },
  {
   "cell_type": "code",
   "execution_count": 20,
   "metadata": {
    "scrolled": true
   },
   "outputs": [
    {
     "name": "stdout",
     "output_type": "stream",
     "text": [
      "---- Iteration 0  ----\n",
      "KNN PipeLine accuracy = 0.6132730015082957\n",
      "__________________________________________________\n",
      "KNN & PCA metric report\n",
      "              precision    recall  f1-score   support\n",
      "\n",
      "  codominant       0.61      0.78      0.69      1604\n",
      "    dominant       0.68      0.59      0.63       969\n",
      "intermediate       0.49      0.32      0.38       539\n",
      "  suppressed       0.51      0.18      0.27       203\n",
      "\n",
      " avg / total       0.60      0.61      0.60      3315\n",
      "\n",
      "---- Iteration 1  ----\n",
      "KNN PipeLine accuracy = 0.6111613876319759\n",
      "__________________________________________________\n",
      "KNN & PCA metric report\n",
      "              precision    recall  f1-score   support\n",
      "\n",
      "  codominant       0.60      0.79      0.68      1604\n",
      "    dominant       0.68      0.57      0.62       969\n",
      "intermediate       0.51      0.30      0.38       539\n",
      "  suppressed       0.56      0.20      0.30       203\n",
      "\n",
      " avg / total       0.61      0.61      0.59      3315\n",
      "\n",
      "---- Iteration 2  ----\n",
      "KNN PipeLine accuracy = 0.604524886877828\n",
      "__________________________________________________\n",
      "KNN & PCA metric report\n",
      "              precision    recall  f1-score   support\n",
      "\n",
      "  codominant       0.60      0.78      0.68      1604\n",
      "    dominant       0.66      0.55      0.60       969\n",
      "intermediate       0.49      0.33      0.40       539\n",
      "  suppressed       0.67      0.21      0.32       203\n",
      "\n",
      " avg / total       0.60      0.60      0.59      3315\n",
      "\n",
      "---- Iteration 3  ----\n",
      "KNN PipeLine accuracy = 0.6054298642533936\n",
      "__________________________________________________\n",
      "KNN & PCA metric report\n",
      "              precision    recall  f1-score   support\n",
      "\n",
      "  codominant       0.60      0.80      0.69      1604\n",
      "    dominant       0.69      0.54      0.61       969\n",
      "intermediate       0.46      0.30      0.37       539\n",
      "  suppressed       0.52      0.16      0.24       203\n",
      "\n",
      " avg / total       0.60      0.61      0.58      3315\n",
      "\n",
      "---- Iteration 4  ----\n",
      "KNN PipeLine accuracy = 0.6099547511312218\n",
      "__________________________________________________\n",
      "KNN & PCA metric report\n",
      "              precision    recall  f1-score   support\n",
      "\n",
      "  codominant       0.61      0.78      0.68      1604\n",
      "    dominant       0.67      0.57      0.62       969\n",
      "intermediate       0.49      0.33      0.39       539\n",
      "  suppressed       0.60      0.23      0.33       203\n",
      "\n",
      " avg / total       0.61      0.61      0.59      3315\n",
      "\n",
      "---- Iteration 5  ----\n",
      "KNN PipeLine accuracy = 0.6072398190045248\n",
      "__________________________________________________\n",
      "KNN & PCA metric report\n",
      "              precision    recall  f1-score   support\n",
      "\n",
      "  codominant       0.60      0.78      0.68      1604\n",
      "    dominant       0.66      0.56      0.61       969\n",
      "intermediate       0.52      0.33      0.41       539\n",
      "  suppressed       0.55      0.19      0.28       203\n",
      "\n",
      " avg / total       0.60      0.61      0.59      3315\n",
      "\n",
      "---- Iteration 6  ----\n",
      "KNN PipeLine accuracy = 0.604524886877828\n",
      "__________________________________________________\n",
      "KNN & PCA metric report\n",
      "              precision    recall  f1-score   support\n",
      "\n",
      "  codominant       0.60      0.77      0.68      1604\n",
      "    dominant       0.67      0.59      0.63       969\n",
      "intermediate       0.48      0.29      0.36       539\n",
      "  suppressed       0.49      0.17      0.25       203\n",
      "\n",
      " avg / total       0.59      0.60      0.58      3315\n",
      "\n",
      "---- Iteration 7  ----\n",
      "KNN PipeLine accuracy = 0.6003016591251885\n",
      "__________________________________________________\n",
      "KNN & PCA metric report\n",
      "              precision    recall  f1-score   support\n",
      "\n",
      "  codominant       0.59      0.79      0.68      1604\n",
      "    dominant       0.68      0.56      0.61       969\n",
      "intermediate       0.45      0.27      0.34       539\n",
      "  suppressed       0.63      0.16      0.25       203\n",
      "\n",
      " avg / total       0.60      0.60      0.58      3315\n",
      "\n",
      "---- Iteration 8  ----\n",
      "KNN PipeLine accuracy = 0.5996983408748114\n",
      "__________________________________________________\n",
      "KNN & PCA metric report\n",
      "              precision    recall  f1-score   support\n",
      "\n",
      "  codominant       0.60      0.76      0.67      1604\n",
      "    dominant       0.65      0.57      0.61       969\n",
      "intermediate       0.51      0.32      0.39       539\n",
      "  suppressed       0.46      0.16      0.24       203\n",
      "\n",
      " avg / total       0.59      0.60      0.58      3315\n",
      "\n",
      "---- Iteration 9  ----\n",
      "KNN PipeLine accuracy = 0.5942684766214178\n",
      "__________________________________________________\n",
      "KNN & PCA metric report\n",
      "              precision    recall  f1-score   support\n",
      "\n",
      "  codominant       0.59      0.77      0.67      1604\n",
      "    dominant       0.65      0.56      0.60       969\n",
      "intermediate       0.48      0.29      0.36       539\n",
      "  suppressed       0.56      0.15      0.24       203\n",
      "\n",
      " avg / total       0.59      0.59      0.57      3315\n",
      "\n"
     ]
    }
   ],
   "source": [
    "# In this snippet we make use of a PCA to evaluate feature importances and \n",
    "# select the most relevant features. Then, a KNeighborsClassifier is trained on the transformed output, \n",
    "# i.e. using only relevant features. \n",
    "\n",
    "# n_neighbors <- Number of neighbors to use\n",
    "# p <- Power parameter for the Minkowski metric. When p = 1, this is equivalent to using manhattan_distance (l1), \n",
    "#      and euclidean_distance (l2) for p = 2. For arbitrary p, minkowski_distance (l_p) is used\n",
    "# algorithm <- Algorithm used to compute the nearest neighbors\n",
    "\n",
    "# First we need to set up the PipeLine that will take the PCA and then fit a KNN classifier\n",
    "KNN_pipe = Pipeline([('PCA', PCA(n_components = 5, svd_solver = 'randomized')),\n",
    "                     ('KNN', KNeighborsClassifier(n_neighbors = 50,\n",
    "                                                  p = 2,\n",
    "                                                  algorithm = 'kd_tree'))\n",
    "                    ])\n",
    "\n",
    "# Next we need to iterate through and get the prediction, like we did above\n",
    "iter_num = 0\n",
    "# the indices are the rows used for training and testing in each iteration\n",
    "for train_indices, test_indices in sss.split(X, y): \n",
    "    X_train = X[train_indices]  # train indices for X\n",
    "    y_train = y[train_indices]  # train indices for y\n",
    "    \n",
    "    X_test = X[test_indices]    # test indices for X\n",
    "    y_test = y[test_indices]    # test indices for y\n",
    "    \n",
    "    # train the reusable KNN classifier on the training data\n",
    "    KNN_pipe.fit(X_train, y_train)    # train object\n",
    "    y_hat = KNN_pipe.predict(X_test) # get test set precitions\n",
    "    \n",
    "    # accuracy for the iterations of training/testing\n",
    "    accuracy_KNN_pipe = mt.accuracy_score(y_test, y_hat)  # obtain accuracies for each iteration \n",
    "    print(\"---- Iteration\", iter_num, \" ----\")              # print out each numbered iteration \n",
    "    print('KNN PipeLine accuracy =', accuracy_KNN_pipe)\n",
    "    print(\"__________________________________________________\")\n",
    "    \n",
    "    #Metric report \n",
    "    metrics_KNN_pipe = classification_report(y_test,y_hat)  # obtain metric's report for each iteration \n",
    "    print('KNN & PCA metric report')\n",
    "    print(metrics_KNN_pipe)\n",
    "    \n",
    "    iter_num += 1  # run through the first iteration, then second, then third ... then tenth"
   ]
  },
  {
   "cell_type": "code",
   "execution_count": 32,
   "metadata": {},
   "outputs": [
    {
     "name": "stdout",
     "output_type": "stream",
     "text": [
      "The mean precision for this model is  0.6\n",
      "The mean recall for this model is  0.6\n",
      "The mean f1-score for this model is  0.58\n"
     ]
    }
   ],
   "source": [
    "KNN_precision = [0.59, 0.59, 0.60, 0.59, 0.60, 0.61, 0.60, 0.60, 0.61, 0.60]\n",
    "KNN_recall = [0.59, 0.60, 0.60, 0.60, 0.61, 0.61, 0.61, 0.60, 0.61, 0.61]\n",
    "KNN_f1 = [0.57, 0.58, 0.58, 0.58, 0.59, 0.59, 0.58, 0.59, 0.59, 0.60]\n",
    "\n",
    "mean_KNN_precision = np.mean(KNN_precision).round(2)\n",
    "print(\"The mean precision for this model is \", mean_KNN_precision)\n",
    "mean_KNN_recall = np.mean(KNN_recall).round(2)\n",
    "print(\"The mean recall for this model is \", mean_KNN_recall)\n",
    "mean_KNN_f1 = np.mean(KNN_f1).round(2)\n",
    "print(\"The mean f1-score for this model is \", mean_KNN_f1)"
   ]
  },
  {
   "cell_type": "code",
   "execution_count": 41,
   "metadata": {},
   "outputs": [
    {
     "name": "stdout",
     "output_type": "stream",
     "text": [
      "The mean accuracy for this model is  0.61\n"
     ]
    }
   ],
   "source": [
    "# Get the mean accuracy\n",
    "# Load the accuracies\n",
    "accuracies_KNN = cross_val_score(KNN_pipe, X, y = y, cv = sss) # this also can help with parallelism\n",
    "# Print out the mean \n",
    "mean_KNN = np.mean(accuracies_KNN).round(2)\n",
    "print(\"The mean accuracy for this model is \", mean_KNN)"
   ]
  },
  {
   "cell_type": "markdown",
   "metadata": {},
   "source": [
    "### Random Forest\n",
    "\n",
    "A random forest is a meta estimator that fits a number of decision tree classifiers on various sub-samples of the dataset and uses averaging to improve the predictive accuracy and control over-fitting. "
   ]
  },
  {
   "cell_type": "code",
   "execution_count": 18,
   "metadata": {},
   "outputs": [
    {
     "name": "stdout",
     "output_type": "stream",
     "text": [
      "---- Iteration 0  ----\n",
      "RF PipeLine accuracy = 0.6470588235294118\n",
      "__________________________________________________\n",
      "RF & PCA metric report\n",
      "              precision    recall  f1-score   support\n",
      "\n",
      "  codominant       0.65      0.77      0.71      1604\n",
      "    dominant       0.68      0.62      0.65       969\n",
      "intermediate       0.57      0.42      0.48       539\n",
      "  suppressed       0.60      0.38      0.47       203\n",
      "\n",
      " avg / total       0.64      0.65      0.64      3315\n",
      "\n",
      "---- Iteration 1  ----\n",
      "RF PipeLine accuracy = 0.6476621417797889\n",
      "__________________________________________________\n",
      "RF & PCA metric report\n",
      "              precision    recall  f1-score   support\n",
      "\n",
      "  codominant       0.65      0.78      0.71      1604\n",
      "    dominant       0.69      0.62      0.65       969\n",
      "intermediate       0.58      0.44      0.50       539\n",
      "  suppressed       0.56      0.32      0.40       203\n",
      "\n",
      " avg / total       0.64      0.65      0.64      3315\n",
      "\n",
      "---- Iteration 2  ----\n",
      "RF PipeLine accuracy = 0.6410256410256411\n",
      "__________________________________________________\n",
      "RF & PCA metric report\n",
      "              precision    recall  f1-score   support\n",
      "\n",
      "  codominant       0.65      0.76      0.70      1604\n",
      "    dominant       0.67      0.62      0.64       969\n",
      "intermediate       0.54      0.44      0.49       539\n",
      "  suppressed       0.62      0.33      0.44       203\n",
      "\n",
      " avg / total       0.64      0.64      0.63      3315\n",
      "\n",
      "---- Iteration 3  ----\n",
      "RF PipeLine accuracy = 0.6383107088989441\n",
      "__________________________________________________\n",
      "RF & PCA metric report\n",
      "              precision    recall  f1-score   support\n",
      "\n",
      "  codominant       0.64      0.78      0.70      1604\n",
      "    dominant       0.69      0.59      0.63       969\n",
      "intermediate       0.57      0.41      0.48       539\n",
      "  suppressed       0.55      0.33      0.41       203\n",
      "\n",
      " avg / total       0.64      0.64      0.63      3315\n",
      "\n",
      "---- Iteration 4  ----\n",
      "RF PipeLine accuracy = 0.6440422322775264\n",
      "__________________________________________________\n",
      "RF & PCA metric report\n",
      "              precision    recall  f1-score   support\n",
      "\n",
      "  codominant       0.65      0.75      0.70      1604\n",
      "    dominant       0.67      0.62      0.65       969\n",
      "intermediate       0.55      0.47      0.50       539\n",
      "  suppressed       0.68      0.40      0.51       203\n",
      "\n",
      " avg / total       0.64      0.64      0.64      3315\n",
      "\n",
      "---- Iteration 5  ----\n",
      "RF PipeLine accuracy = 0.6401206636500754\n",
      "__________________________________________________\n",
      "RF & PCA metric report\n",
      "              precision    recall  f1-score   support\n",
      "\n",
      "  codominant       0.64      0.75      0.69      1604\n",
      "    dominant       0.68      0.64      0.66       969\n",
      "intermediate       0.56      0.43      0.49       539\n",
      "  suppressed       0.60      0.31      0.41       203\n",
      "\n",
      " avg / total       0.64      0.64      0.63      3315\n",
      "\n",
      "---- Iteration 6  ----\n",
      "RF PipeLine accuracy = 0.6380090497737556\n",
      "__________________________________________________\n",
      "RF & PCA metric report\n",
      "              precision    recall  f1-score   support\n",
      "\n",
      "  codominant       0.64      0.77      0.70      1604\n",
      "    dominant       0.68      0.62      0.65       969\n",
      "intermediate       0.54      0.40      0.46       539\n",
      "  suppressed       0.61      0.32      0.42       203\n",
      "\n",
      " avg / total       0.63      0.64      0.63      3315\n",
      "\n",
      "---- Iteration 7  ----\n",
      "RF PipeLine accuracy = 0.6349924585218703\n",
      "__________________________________________________\n",
      "RF & PCA metric report\n",
      "              precision    recall  f1-score   support\n",
      "\n",
      "  codominant       0.64      0.76      0.70      1604\n",
      "    dominant       0.68      0.63      0.65       969\n",
      "intermediate       0.53      0.39      0.45       539\n",
      "  suppressed       0.62      0.30      0.40       203\n",
      "\n",
      " avg / total       0.63      0.63      0.62      3315\n",
      "\n",
      "---- Iteration 8  ----\n",
      "RF PipeLine accuracy = 0.6404223227752639\n",
      "__________________________________________________\n",
      "RF & PCA metric report\n",
      "              precision    recall  f1-score   support\n",
      "\n",
      "  codominant       0.64      0.77      0.70      1604\n",
      "    dominant       0.67      0.61      0.64       969\n",
      "intermediate       0.58      0.43      0.49       539\n",
      "  suppressed       0.55      0.33      0.41       203\n",
      "\n",
      " avg / total       0.64      0.64      0.63      3315\n",
      "\n",
      "---- Iteration 9  ----\n",
      "RF PipeLine accuracy = 0.6334841628959276\n",
      "__________________________________________________\n",
      "RF & PCA metric report\n",
      "              precision    recall  f1-score   support\n",
      "\n",
      "  codominant       0.64      0.75      0.69      1604\n",
      "    dominant       0.66      0.63      0.64       969\n",
      "intermediate       0.56      0.42      0.48       539\n",
      "  suppressed       0.62      0.29      0.39       203\n",
      "\n",
      " avg / total       0.63      0.63      0.62      3315\n",
      "\n"
     ]
    }
   ],
   "source": [
    "# In this snippet we make use of a PCA to evaluate feature importances and \n",
    "# select the most relevant features. Then, a RandomForestClassifier is trained on the transformed output, \n",
    "# i.e. using only relevant features. \n",
    "\n",
    "# n_estimators <- The number of trees in the forest\n",
    "# criterion <- The function to measure the quality of a split. Supported criteria are “gini” for \n",
    "#              the Gini impurity and “entropy” for the information gain. Note: this parameter is tree-specific\n",
    "# max_depth <- The maximum depth of the tree. If None, then nodes are expanded until all \n",
    "#              leaves are pure or until all leaves contain less than min_samples_split samples\n",
    "# min_samples_split <- The minimum number of samples required to split an internal node (default = 2)\n",
    "# max_features <- The number of features to consider when looking for the best split\n",
    "\n",
    "# First we need to set up the PipeLine that will take the PCA and then fit a RF classifier\n",
    "RF_pipe = Pipeline([('PCA', PCA(n_components = 5, svd_solver = 'randomized')),\n",
    "                    ('classification', RandomForestClassifier(n_estimators = 300,\n",
    "#                                                               max_depth = 10,\n",
    "                                                              max_features = 'log2',\n",
    "                                                              min_samples_split = 2,\n",
    "                                                              criterion = 'entropy',\n",
    "                                                              random_state = 111))\n",
    "                    ])\n",
    "\n",
    "# Next we need to iterate through and get the prediction, like we did above\n",
    "iter_num = 0\n",
    "# the indices are the rows used for training and testing in each iteration\n",
    "for train_indices, test_indices in sss.split(X, y): \n",
    "    X_train = X[train_indices]  # train indices for X\n",
    "    y_train = y[train_indices]  # train indices for y\n",
    "    \n",
    "    X_test = X[test_indices]    # test indices for X\n",
    "    y_test = y[test_indices]    # test indices for y\n",
    "    \n",
    "    # train the reusable KNN classifier on the training data\n",
    "    RF_pipe.fit(X_train, y_train)    # train object\n",
    "    y_hat = RF_pipe.predict(X_test) # get test set precitions\n",
    "    \n",
    "    # accuracy for the iterations of training/testing\n",
    "    accuracy_RF_pipe = mt.accuracy_score(y_test, y_hat)  # obtain accuracies for each iteration \n",
    "    print(\"---- Iteration\", iter_num, \" ----\")              # print out each numbered iteration \n",
    "    print('RF PipeLine accuracy =', accuracy_RF_pipe)\n",
    "    print(\"__________________________________________________\")\n",
    "    \n",
    "    #Metric report \n",
    "    metrics_RF_pipe = classification_report(y_test, y_hat)  # obtain metric's report for each iteration \n",
    "    print('RF & PCA metric report')\n",
    "    print(metrics_RF_pipe)\n",
    "    \n",
    "    iter_num += 1  # run through the first iteration, then second, then third ... then tenth"
   ]
  },
  {
   "cell_type": "code",
   "execution_count": 31,
   "metadata": {},
   "outputs": [
    {
     "name": "stdout",
     "output_type": "stream",
     "text": [
      "The mean precision for this model is  0.64\n",
      "The mean recall for this model is  0.64\n",
      "The mean f1-score for this model is  0.63\n"
     ]
    }
   ],
   "source": [
    "RF_precision = [0.63, 0.64, 0.63, 0.63, 0.64, 0.64, 0.64, 0.64, 0.64, 0.64]\n",
    "RF_recall = [0.63, 0.64, 0.63, 0.64, 0.64, 0.64, 0.64, 0.64, 0.65, 0.65]\n",
    "RF_f1 = [0.62, 0.63, 0.62, 0.63, 0.63, 0.64, 0.63, 0.63, 0.64, 0.64]\n",
    "\n",
    "mean_RF_precision = np.mean(RF_precision).round(2)\n",
    "print(\"The mean precision for this model is \", mean_RF_precision)\n",
    "mean_RF_recall = np.mean(RF_recall).round(2)\n",
    "print(\"The mean recall for this model is \", mean_RF_recall)\n",
    "mean_RF_f1 = np.mean(RF_f1).round(2)\n",
    "print(\"The mean f1-score for this model is \", mean_RF_f1)"
   ]
  },
  {
   "cell_type": "code",
   "execution_count": 40,
   "metadata": {},
   "outputs": [
    {
     "name": "stdout",
     "output_type": "stream",
     "text": [
      "The mean accuracy for this model is  0.64\n"
     ]
    }
   ],
   "source": [
    "# Get the mean accuracy\n",
    "# Load the accuracies\n",
    "accuracies_RF = cross_val_score(RF_pipe, X, y = y, cv = sss) # this also can help with parallelism\n",
    "# Print out the mean \n",
    "mean_RF = np.mean(accuracies_RF).round(2)\n",
    "print(\"The mean accuracy for this model is \", mean_RF)"
   ]
  },
  {
   "cell_type": "markdown",
   "metadata": {},
   "source": [
    "### SVM\n",
    "C-Support Vector Classification"
   ]
  },
  {
   "cell_type": "code",
   "execution_count": 14,
   "metadata": {},
   "outputs": [
    {
     "name": "stdout",
     "output_type": "stream",
     "text": [
      "---- Iteration 0  ----\n",
      "SVC accuracy = 0.6337858220211161\n",
      "SVC metric report\n",
      "              precision    recall  f1-score   support\n",
      "\n",
      "  codominant       0.63      0.80      0.70      1604\n",
      "    dominant       0.70      0.58      0.63       969\n",
      "intermediate       0.54      0.35      0.43       539\n",
      "  suppressed       0.62      0.30      0.40       203\n",
      "\n",
      " avg / total       0.63      0.63      0.62      3315\n",
      "\n",
      "---- Iteration 1  ----\n",
      "SVC accuracy = 0.6280542986425339\n",
      "SVC metric report\n",
      "              precision    recall  f1-score   support\n",
      "\n",
      "  codominant       0.63      0.78      0.69      1604\n",
      "    dominant       0.68      0.59      0.63       969\n",
      "intermediate       0.53      0.41      0.46       539\n",
      "  suppressed       0.57      0.23      0.33       203\n",
      "\n",
      " avg / total       0.62      0.63      0.62      3315\n",
      "\n",
      "---- Iteration 2  ----\n",
      "SVC accuracy = 0.6180995475113122\n",
      "SVC metric report\n",
      "              precision    recall  f1-score   support\n",
      "\n",
      "  codominant       0.62      0.78      0.69      1604\n",
      "    dominant       0.67      0.56      0.61       969\n",
      "intermediate       0.51      0.37      0.43       539\n",
      "  suppressed       0.61      0.28      0.38       203\n",
      "\n",
      " avg / total       0.62      0.62      0.61      3315\n",
      "\n",
      "---- Iteration 3  ----\n",
      "SVC accuracy = 0.6147812971342383\n",
      "SVC metric report\n",
      "              precision    recall  f1-score   support\n",
      "\n",
      "  codominant       0.61      0.79      0.69      1604\n",
      "    dominant       0.69      0.55      0.62       969\n",
      "intermediate       0.49      0.35      0.41       539\n",
      "  suppressed       0.53      0.22      0.31       203\n",
      "\n",
      " avg / total       0.61      0.61      0.60      3315\n",
      "\n",
      "---- Iteration 4  ----\n",
      "SVC accuracy = 0.6205128205128205\n",
      "SVC metric report\n",
      "              precision    recall  f1-score   support\n",
      "\n",
      "  codominant       0.62      0.78      0.69      1604\n",
      "    dominant       0.68      0.57      0.62       969\n",
      "intermediate       0.50      0.36      0.42       539\n",
      "  suppressed       0.58      0.28      0.37       203\n",
      "\n",
      " avg / total       0.62      0.62      0.61      3315\n",
      "\n",
      "---- Iteration 5  ----\n",
      "SVC accuracy = 0.6313725490196078\n",
      "SVC metric report\n",
      "              precision    recall  f1-score   support\n",
      "\n",
      "  codominant       0.62      0.79      0.70      1604\n",
      "    dominant       0.68      0.59      0.64       969\n",
      "intermediate       0.56      0.36      0.44       539\n",
      "  suppressed       0.62      0.27      0.38       203\n",
      "\n",
      " avg / total       0.63      0.63      0.62      3315\n",
      "\n",
      "---- Iteration 6  ----\n",
      "SVC accuracy = 0.6277526395173454\n",
      "SVC metric report\n",
      "              precision    recall  f1-score   support\n",
      "\n",
      "  codominant       0.62      0.80      0.70      1604\n",
      "    dominant       0.69      0.57      0.63       969\n",
      "intermediate       0.54      0.35      0.42       539\n",
      "  suppressed       0.60      0.25      0.35       203\n",
      "\n",
      " avg / total       0.63      0.63      0.61      3315\n",
      "\n",
      "---- Iteration 7  ----\n",
      "SVC accuracy = 0.6159879336349925\n",
      "SVC metric report\n",
      "              precision    recall  f1-score   support\n",
      "\n",
      "  codominant       0.61      0.80      0.69      1604\n",
      "    dominant       0.69      0.56      0.62       969\n",
      "intermediate       0.47      0.33      0.39       539\n",
      "  suppressed       0.67      0.21      0.32       203\n",
      "\n",
      " avg / total       0.62      0.62      0.60      3315\n",
      "\n",
      "---- Iteration 8  ----\n",
      "SVC accuracy = 0.611764705882353\n",
      "SVC metric report\n",
      "              precision    recall  f1-score   support\n",
      "\n",
      "  codominant       0.61      0.77      0.68      1604\n",
      "    dominant       0.66      0.57      0.61       969\n",
      "intermediate       0.53      0.37      0.44       539\n",
      "  suppressed       0.54      0.22      0.31       203\n",
      "\n",
      " avg / total       0.61      0.61      0.60      3315\n",
      "\n",
      "---- Iteration 9  ----\n",
      "SVC accuracy = 0.6108597285067874\n",
      "SVC metric report\n",
      "              precision    recall  f1-score   support\n",
      "\n",
      "  codominant       0.61      0.78      0.68      1604\n",
      "    dominant       0.66      0.57      0.61       969\n",
      "intermediate       0.50      0.34      0.41       539\n",
      "  suppressed       0.68      0.21      0.32       203\n",
      "\n",
      " avg / total       0.61      0.61      0.59      3315\n",
      "\n"
     ]
    }
   ],
   "source": [
    "# In this snippet we make use of a PCA to evaluate feature importances and \n",
    "# select the most relevant features. Then, a SVM is trained on the transformed output, \n",
    "# i.e. using only relevant features. \n",
    "\n",
    "# kernel <- Specifies the kernel type to be used in the algorithm\n",
    "#            linear’, ‘poly’, ‘rbf’, ‘sigmoid\n",
    "\n",
    "# Linear = 56.49\n",
    "# RBF = 62.07\n",
    "# sigmoid = 41.11\n",
    "# poly = Took way too long to train, had it running for abour 2 hour before I shut it down \n",
    "#        and since I dont thing the polynomial is the way to go then we wont train it again and will stick \n",
    "#        with the rbf kernel\n",
    "\n",
    "# First we need to set up the PipeLine that will take the PCA and then fit a GNB classifier\n",
    "SVC_pipe = Pipeline([('PCA', PCA(n_components = 5, svd_solver = 'randomized')),\n",
    "                     ('classification', SVC(kernel ='rbf',\n",
    "                                            random_state = 111))\n",
    "                    ])\n",
    "\n",
    "# Now we want to iterate through and grab the prediction, just like we did in the RF2 above\n",
    "iter_num = 0\n",
    "# The indices are the rows used for training and testing in each iteration\n",
    "for train_indices, test_indices in sss.split(X, y): \n",
    "    X_train = X[train_indices]  #train indices for X\n",
    "    y_train = y[train_indices]  #train indices for y\n",
    "    \n",
    "    X_test = X[test_indices]    #test indices for X\n",
    "    y_test = y[test_indices]    #test indices for y\n",
    "    \n",
    "    # Train the reusable KNN classifier on the training data\n",
    "    SVC_pipe.fit(X_train, y_train)  # train object\n",
    "    y_hat = SVC_pipe.predict(X_test) #get the test set predictions \n",
    "    \n",
    "    # Accuracy for the iterations of training/testing\n",
    "    accuracy_SVC_pipe = mt.accuracy_score(y_test, y_hat)\n",
    "    print(\"---- Iteration\", iter_num,\" ----\")          # print out each numbered iteration \n",
    "    print('SVC accuracy =', accuracy_SVC_pipe)\n",
    "    \n",
    "    # Metric report \n",
    "    metrics_SVC_pipe = classification_report(y_test, y_hat)\n",
    "    print('SVC metric report')\n",
    "    print(metrics_SVC_pipe)\n",
    "\n",
    "    iter_num += 1 # run through the first iteration, then second, then third ... then tenth"
   ]
  },
  {
   "cell_type": "code",
   "execution_count": 30,
   "metadata": {},
   "outputs": [
    {
     "name": "stdout",
     "output_type": "stream",
     "text": [
      "The mean precision for this model is  0.62\n",
      "The mean recall for this model is  0.62\n",
      "The mean f1-score for this model is  0.61\n"
     ]
    }
   ],
   "source": [
    "SVC_precision = [0.61, 0.61, 0.62, 0.63, 0.63, 0.62, 0.61, 0.62, 0.62,0.63]\n",
    "SVC_recall = [0.61, 0.61, 0.62, 0.63, 0.63, 0.62, 0.61, 0.62, 0.63,0.63]\n",
    "SVC_f1 = [0.59, 0.60, 0.60, 0.61, 0.62, 0.61, 0.60, 0.61, 0.62,0.62]\n",
    "\n",
    "mean_SVC_precision = np.mean(SVC_precision).round(2)\n",
    "print(\"The mean precision for this model is \", mean_SVC_precision)\n",
    "mean_SVC_recall = np.mean(SVC_recall).round(2)\n",
    "print(\"The mean recall for this model is \", mean_SVC_recall)\n",
    "mean_SVC_f1 = np.mean(SVC_f1).round(2)\n",
    "print(\"The mean f1-score for this model is \", mean_SVC_f1)"
   ]
  },
  {
   "cell_type": "code",
   "execution_count": 39,
   "metadata": {},
   "outputs": [
    {
     "name": "stdout",
     "output_type": "stream",
     "text": [
      "The mean accuracy for this model is  0.62\n"
     ]
    }
   ],
   "source": [
    "# Get the mean accuracy\n",
    "# Load the accuracies\n",
    "accuracies_SVC = cross_val_score(SVC_pipe, X, y = y, cv = sss) # this also can help with parallelism\n",
    "# Print out the mean \n",
    "mean_SVC = np.mean(accuracies_SVC).round(2)\n",
    "print(\"The mean accuracy for this model is \", mean_SVC)"
   ]
  },
  {
   "cell_type": "markdown",
   "metadata": {},
   "source": [
    "### Gaussian Naive Bayes "
   ]
  },
  {
   "cell_type": "code",
   "execution_count": 11,
   "metadata": {},
   "outputs": [
    {
     "name": "stdout",
     "output_type": "stream",
     "text": [
      "---- Iteration 0  ----\n",
      "GNB accuracy = 0.5592760180995475\n",
      "GNB metric report\n",
      "              precision    recall  f1-score   support\n",
      "\n",
      "  codominant       0.59      0.75      0.66      1604\n",
      "    dominant       0.68      0.42      0.52       969\n",
      "intermediate       0.37      0.40      0.39       539\n",
      "  suppressed       0.36      0.15      0.21       203\n",
      "\n",
      " avg / total       0.56      0.56      0.54      3315\n",
      "\n",
      "---- Iteration 1  ----\n",
      "GNB accuracy = 0.5574660633484163\n",
      "GNB metric report\n",
      "              precision    recall  f1-score   support\n",
      "\n",
      "  codominant       0.59      0.74      0.65      1604\n",
      "    dominant       0.68      0.41      0.51       969\n",
      "intermediate       0.38      0.42      0.40       539\n",
      "  suppressed       0.37      0.17      0.23       203\n",
      "\n",
      " avg / total       0.57      0.56      0.54      3315\n",
      "\n",
      "---- Iteration 2  ----\n",
      "GNB accuracy = 0.5568627450980392\n",
      "GNB metric report\n",
      "              precision    recall  f1-score   support\n",
      "\n",
      "  codominant       0.55      0.86      0.67      1604\n",
      "    dominant       0.66      0.37      0.47       969\n",
      "intermediate       0.43      0.09      0.14       539\n",
      "  suppressed       0.46      0.34      0.39       203\n",
      "\n",
      " avg / total       0.56      0.56      0.51      3315\n",
      "\n",
      "---- Iteration 3  ----\n",
      "GNB accuracy = 0.5496229260935144\n",
      "GNB metric report\n",
      "              precision    recall  f1-score   support\n",
      "\n",
      "  codominant       0.55      0.85      0.67      1604\n",
      "    dominant       0.68      0.36      0.47       969\n",
      "intermediate       0.35      0.02      0.04       539\n",
      "  suppressed       0.36      0.47      0.41       203\n",
      "\n",
      " avg / total       0.54      0.55      0.49      3315\n",
      "\n",
      "---- Iteration 4  ----\n",
      "GNB accuracy = 0.5625942684766214\n",
      "GNB metric report\n",
      "              precision    recall  f1-score   support\n",
      "\n",
      "  codominant       0.57      0.83      0.67      1604\n",
      "    dominant       0.68      0.39      0.50       969\n",
      "intermediate       0.36      0.15      0.22       539\n",
      "  suppressed       0.42      0.37      0.39       203\n",
      "\n",
      " avg / total       0.56      0.56      0.53      3315\n",
      "\n",
      "---- Iteration 5  ----\n",
      "GNB accuracy = 0.5610859728506787\n",
      "GNB metric report\n",
      "              precision    recall  f1-score   support\n",
      "\n",
      "  codominant       0.55      0.85      0.67      1604\n",
      "    dominant       0.69      0.38      0.49       969\n",
      "intermediate       0.39      0.14      0.21       539\n",
      "  suppressed       0.48      0.29      0.36       203\n",
      "\n",
      " avg / total       0.56      0.56      0.52      3315\n",
      "\n",
      "---- Iteration 6  ----\n",
      "GNB accuracy = 0.5604826546003017\n",
      "GNB metric report\n",
      "              precision    recall  f1-score   support\n",
      "\n",
      "  codominant       0.58      0.74      0.65      1604\n",
      "    dominant       0.68      0.42      0.52       969\n",
      "intermediate       0.39      0.46      0.42       539\n",
      "  suppressed       0.49      0.09      0.16       203\n",
      "\n",
      " avg / total       0.57      0.56      0.54      3315\n",
      "\n",
      "---- Iteration 7  ----\n",
      "GNB accuracy = 0.5484162895927602\n",
      "GNB metric report\n",
      "              precision    recall  f1-score   support\n",
      "\n",
      "  codominant       0.58      0.71      0.64      1604\n",
      "    dominant       0.64      0.42      0.51       969\n",
      "intermediate       0.36      0.46      0.41       539\n",
      "  suppressed       0.42      0.11      0.17       203\n",
      "\n",
      " avg / total       0.56      0.55      0.54      3315\n",
      "\n",
      "---- Iteration 8  ----\n",
      "GNB accuracy = 0.5665158371040724\n",
      "GNB metric report\n",
      "              precision    recall  f1-score   support\n",
      "\n",
      "  codominant       0.58      0.77      0.66      1604\n",
      "    dominant       0.67      0.43      0.52       969\n",
      "intermediate       0.39      0.38      0.38       539\n",
      "  suppressed       0.45      0.15      0.22       203\n",
      "\n",
      " avg / total       0.57      0.57      0.55      3315\n",
      "\n",
      "---- Iteration 9  ----\n",
      "GNB accuracy = 0.5559577677224736\n",
      "GNB metric report\n",
      "              precision    recall  f1-score   support\n",
      "\n",
      "  codominant       0.56      0.80      0.66      1604\n",
      "    dominant       0.67      0.41      0.51       969\n",
      "intermediate       0.35      0.23      0.28       539\n",
      "  suppressed       0.46      0.20      0.28       203\n",
      "\n",
      " avg / total       0.55      0.56      0.53      3315\n",
      "\n"
     ]
    }
   ],
   "source": [
    "# In this snippet we make use of a PCA to evaluate feature importances and \n",
    "# select the most relevant features. Then, a GaussianNB is trained on the transformed output, \n",
    "# i.e. using only relevant features. \n",
    "\n",
    "# First we need to set up the PipeLine that will take the PCA and then fit a GNB classifier\n",
    "GNB_pipe = Pipeline([('PCA', PCA(n_components = 7, svd_solver = 'randomized')),\n",
    "                     ('classification', GaussianNB())\n",
    "                    ])\n",
    "\n",
    "# Now we want to iterate through and grab the prediction, just like we did in the RF2 above\n",
    "iter_num = 0\n",
    "# The indices are the rows used for training and testing in each iteration\n",
    "for train_indices, test_indices in sss.split(X, y): \n",
    "    X_train = X[train_indices]  #train indices for X\n",
    "    y_train = y[train_indices]  #train indices for y\n",
    "    \n",
    "    X_test = X[test_indices]    #test indices for X\n",
    "    y_test = y[test_indices]    #test indices for y\n",
    "    \n",
    "    # Train the reusable KNN classifier on the training data\n",
    "    GNB_pipe.fit(X_train, y_train)  # train object\n",
    "    y_hat = GNB_pipe.predict(X_test) #get the test set predictions \n",
    "    \n",
    "    # Accuracy for the iterations of training/testing\n",
    "    accuracy_GNB_pipe = mt.accuracy_score(y_test, y_hat)\n",
    "    print(\"---- Iteration\",iter_num,\" ----\")          # print out each numbered iteration \n",
    "    print('GNB accuracy =', accuracy_GNB_pipe)\n",
    "    \n",
    "    # Metric report \n",
    "    metrics_GNB_pipe = classification_report(y_test,y_hat)\n",
    "    print('GNB metric report')\n",
    "    print(metrics_GNB_pipe)\n",
    "\n",
    "    iter_num += 1 # run through the first iteration, then second, then third ... then tenth"
   ]
  },
  {
   "cell_type": "code",
   "execution_count": 29,
   "metadata": {},
   "outputs": [
    {
     "name": "stdout",
     "output_type": "stream",
     "text": [
      "The mean precision for this model is  0.56\n",
      "The mean recall for this model is  0.56\n",
      "The mean f1-score for this model is  0.53\n"
     ]
    }
   ],
   "source": [
    "GNB_precision = [0.55, 0.57, 0.56, 0.57, 0.56, 0.56, 0.54, 0.56, 0.56, 0.57]\n",
    "GNB_recall = [0.56, 0.57, 0.55, 0.56, 0.56, 0.56, 0.55, 0.56, 0.56, 0.56]\n",
    "GNB_f1 = [0.53, 0.55, 0.54, 0.54, 0.52, 0.53, 0.49, 0.54, 0.54, 0.54]\n",
    "\n",
    "mean_GNB_precision = np.mean(GNB_precision).round(2)\n",
    "print(\"The mean precision for this model is \", mean_GNB_precision)\n",
    "mean_GNB_recall = np.mean(GNB_recall).round(2)\n",
    "print(\"The mean recall for this model is \", mean_GNB_recall)\n",
    "mean_GNB_f1 = np.mean(GNB_f1).round(2)\n",
    "print(\"The mean f1-score for this model is \", mean_GNB_f1)"
   ]
  },
  {
   "cell_type": "code",
   "execution_count": 38,
   "metadata": {},
   "outputs": [
    {
     "name": "stdout",
     "output_type": "stream",
     "text": [
      "The mean accuracy for this model is  0.56\n"
     ]
    }
   ],
   "source": [
    "# Get the mean accuracy\n",
    "# Load the accuracies\n",
    "accuracies_GNB = cross_val_score(GNB_pipe, X, y = y, cv = sss) # this also can help with parallelism\n",
    "# Print out the mean \n",
    "mean_GNB = np.mean(accuracies_GNB).round(2)\n",
    "print(\"The mean accuracy for this model is \", mean_GNB)"
   ]
  },
  {
   "cell_type": "markdown",
   "metadata": {},
   "source": [
    "###  Bernoulli Naive Bayes "
   ]
  },
  {
   "cell_type": "code",
   "execution_count": 7,
   "metadata": {},
   "outputs": [
    {
     "name": "stdout",
     "output_type": "stream",
     "text": [
      "---- Iteration 0  ----\n",
      "BNB accuracy = 0.5577677224736048\n",
      "BNB metric report\n",
      "              precision    recall  f1-score   support\n",
      "\n",
      "  codominant       0.55      0.76      0.64      1604\n",
      "    dominant       0.61      0.60      0.61       969\n",
      "intermediate       0.32      0.08      0.13       539\n",
      "  suppressed       0.00      0.00      0.00       203\n",
      "\n",
      " avg / total       0.50      0.56      0.51      3315\n",
      "\n"
     ]
    },
    {
     "name": "stderr",
     "output_type": "stream",
     "text": [
      "/Users/timmcwilliams/anaconda2/lib/python2.7/site-packages/sklearn/metrics/classification.py:1135: UndefinedMetricWarning: Precision and F-score are ill-defined and being set to 0.0 in labels with no predicted samples.\n",
      "  'precision', 'predicted', average, warn_for)\n"
     ]
    },
    {
     "name": "stdout",
     "output_type": "stream",
     "text": [
      "---- Iteration 1  ----\n",
      "BNB accuracy = 0.5517345399698341\n",
      "BNB metric report\n",
      "              precision    recall  f1-score   support\n",
      "\n",
      "  codominant       0.55      0.72      0.62      1604\n",
      "    dominant       0.60      0.62      0.61       969\n",
      "intermediate       0.33      0.13      0.18       539\n",
      "  suppressed       0.24      0.03      0.06       203\n",
      "\n",
      " avg / total       0.51      0.55      0.51      3315\n",
      "\n",
      "---- Iteration 2  ----\n",
      "BNB accuracy = 0.5384615384615384\n",
      "BNB metric report\n",
      "              precision    recall  f1-score   support\n",
      "\n",
      "  codominant       0.55      0.72      0.62      1604\n",
      "    dominant       0.58      0.57      0.57       969\n",
      "intermediate       0.30      0.13      0.18       539\n",
      "  suppressed       0.00      0.00      0.00       203\n",
      "\n",
      " avg / total       0.48      0.54      0.50      3315\n",
      "\n"
     ]
    },
    {
     "name": "stderr",
     "output_type": "stream",
     "text": [
      "/Users/timmcwilliams/anaconda2/lib/python2.7/site-packages/sklearn/metrics/classification.py:1135: UndefinedMetricWarning: Precision and F-score are ill-defined and being set to 0.0 in labels with no predicted samples.\n",
      "  'precision', 'predicted', average, warn_for)\n"
     ]
    },
    {
     "name": "stdout",
     "output_type": "stream",
     "text": [
      "---- Iteration 3  ----\n",
      "BNB accuracy = 0.551131221719457\n",
      "BNB metric report\n",
      "              precision    recall  f1-score   support\n",
      "\n",
      "  codominant       0.55      0.76      0.64      1604\n",
      "    dominant       0.61      0.54      0.57       969\n",
      "intermediate       0.37      0.15      0.22       539\n",
      "  suppressed       0.00      0.00      0.00       203\n",
      "\n",
      " avg / total       0.50      0.55      0.51      3315\n",
      "\n"
     ]
    },
    {
     "name": "stderr",
     "output_type": "stream",
     "text": [
      "/Users/timmcwilliams/anaconda2/lib/python2.7/site-packages/sklearn/metrics/classification.py:1135: UndefinedMetricWarning: Precision and F-score are ill-defined and being set to 0.0 in labels with no predicted samples.\n",
      "  'precision', 'predicted', average, warn_for)\n"
     ]
    },
    {
     "name": "stdout",
     "output_type": "stream",
     "text": [
      "---- Iteration 4  ----\n",
      "BNB accuracy = 0.5411764705882353\n",
      "BNB metric report\n",
      "              precision    recall  f1-score   support\n",
      "\n",
      "  codominant       0.55      0.72      0.62      1604\n",
      "    dominant       0.58      0.58      0.58       969\n",
      "intermediate       0.33      0.14      0.20       539\n",
      "  suppressed       0.00      0.00      0.00       203\n",
      "\n",
      " avg / total       0.49      0.54      0.50      3315\n",
      "\n"
     ]
    },
    {
     "name": "stderr",
     "output_type": "stream",
     "text": [
      "/Users/timmcwilliams/anaconda2/lib/python2.7/site-packages/sklearn/metrics/classification.py:1135: UndefinedMetricWarning: Precision and F-score are ill-defined and being set to 0.0 in labels with no predicted samples.\n",
      "  'precision', 'predicted', average, warn_for)\n"
     ]
    },
    {
     "name": "stdout",
     "output_type": "stream",
     "text": [
      "---- Iteration 5  ----\n",
      "BNB accuracy = 0.5514328808446456\n",
      "BNB metric report\n",
      "              precision    recall  f1-score   support\n",
      "\n",
      "  codominant       0.54      0.75      0.63      1604\n",
      "    dominant       0.60      0.60      0.60       969\n",
      "intermediate       0.34      0.08      0.13       539\n",
      "  suppressed       0.00      0.00      0.00       203\n",
      "\n",
      " avg / total       0.49      0.55      0.50      3315\n",
      "\n"
     ]
    },
    {
     "name": "stderr",
     "output_type": "stream",
     "text": [
      "/Users/timmcwilliams/anaconda2/lib/python2.7/site-packages/sklearn/metrics/classification.py:1135: UndefinedMetricWarning: Precision and F-score are ill-defined and being set to 0.0 in labels with no predicted samples.\n",
      "  'precision', 'predicted', average, warn_for)\n"
     ]
    },
    {
     "name": "stdout",
     "output_type": "stream",
     "text": [
      "---- Iteration 6  ----\n",
      "BNB accuracy = 0.5453996983408748\n",
      "BNB metric report\n",
      "              precision    recall  f1-score   support\n",
      "\n",
      "  codominant       0.54      0.73      0.62      1604\n",
      "    dominant       0.59      0.60      0.60       969\n",
      "intermediate       0.32      0.09      0.14       539\n",
      "  suppressed       0.28      0.05      0.08       203\n",
      "\n",
      " avg / total       0.51      0.55      0.50      3315\n",
      "\n",
      "---- Iteration 7  ----\n",
      "BNB accuracy = 0.5457013574660633\n",
      "BNB metric report\n",
      "              precision    recall  f1-score   support\n",
      "\n",
      "  codominant       0.56      0.68      0.61      1604\n",
      "    dominant       0.58      0.61      0.59       969\n",
      "intermediate       0.36      0.25      0.29       539\n",
      "  suppressed       0.00      0.00      0.00       203\n",
      "\n",
      " avg / total       0.50      0.55      0.52      3315\n",
      "\n"
     ]
    },
    {
     "name": "stderr",
     "output_type": "stream",
     "text": [
      "/Users/timmcwilliams/anaconda2/lib/python2.7/site-packages/sklearn/metrics/classification.py:1135: UndefinedMetricWarning: Precision and F-score are ill-defined and being set to 0.0 in labels with no predicted samples.\n",
      "  'precision', 'predicted', average, warn_for)\n"
     ]
    },
    {
     "name": "stdout",
     "output_type": "stream",
     "text": [
      "---- Iteration 8  ----\n",
      "BNB accuracy = 0.5408748114630467\n",
      "BNB metric report\n",
      "              precision    recall  f1-score   support\n",
      "\n",
      "  codominant       0.54      0.75      0.63      1604\n",
      "    dominant       0.58      0.56      0.57       969\n",
      "intermediate       0.33      0.03      0.05       539\n",
      "  suppressed       0.31      0.20      0.25       203\n",
      "\n",
      " avg / total       0.51      0.54      0.49      3315\n",
      "\n",
      "---- Iteration 9  ----\n",
      "BNB accuracy = 0.5339366515837104\n",
      "BNB metric report\n",
      "              precision    recall  f1-score   support\n",
      "\n",
      "  codominant       0.53      0.75      0.62      1604\n",
      "    dominant       0.57      0.54      0.55       969\n",
      "intermediate       0.32      0.10      0.15       539\n",
      "  suppressed       0.00      0.00      0.00       203\n",
      "\n",
      " avg / total       0.48      0.53      0.49      3315\n",
      "\n"
     ]
    },
    {
     "name": "stderr",
     "output_type": "stream",
     "text": [
      "/Users/timmcwilliams/anaconda2/lib/python2.7/site-packages/sklearn/metrics/classification.py:1135: UndefinedMetricWarning: Precision and F-score are ill-defined and being set to 0.0 in labels with no predicted samples.\n",
      "  'precision', 'predicted', average, warn_for)\n"
     ]
    }
   ],
   "source": [
    "# In this snippet we make use of a PCA to evaluate feature importances and \n",
    "# select the most relevant features. Then, a BernoulliNB is trained on the transformed output, \n",
    "# i.e. using only relevant features. \n",
    "\n",
    "# First we need to set up the PipeLine that will take the PCA and then fit a GNB classifier\n",
    "BNB_pipe = Pipeline([('PCA', PCA(n_components = 7, svd_solver = 'randomized')),\n",
    "                     ('classification', BernoulliNB())\n",
    "                    ])\n",
    "\n",
    "# Now we want to iterate through and grab the prediction, just like we did in the RF2 above\n",
    "iter_num=0\n",
    "# The indices are the rows used for training and testing in each iteration\n",
    "for train_indices, test_indices in sss.split(X, y): \n",
    "    X_train = X[train_indices]  #train indices for X\n",
    "    y_train = y[train_indices]  #train indices for y\n",
    "    \n",
    "    X_test = X[test_indices]    #test indices for X\n",
    "    y_test = y[test_indices]    #test indices for y\n",
    "    \n",
    "    # Train the reusable KNN classifier on the training data\n",
    "    BNB_pipe.fit(X_train, y_train)  # train object\n",
    "    y_hat = BNB_pipe.predict(X_test) #get the test set predictions \n",
    "    \n",
    "    # Accuracy for the iterations of training/testing\n",
    "    accuracy_BNB_pipe= mt.accuracy_score(y_test, y_hat)\n",
    "    print(\"---- Iteration\", iter_num,\" ----\")          # print out each numbered iteration \n",
    "    print('BNB accuracy =', accuracy_BNB_pipe)\n",
    "\n",
    "    # Metric report \n",
    "    metrics_BNB_pipe = classification_report(y_test, y_hat)\n",
    "    print('BNB metric report')\n",
    "    print(metrics_BNB_pipe)\n",
    "    \n",
    "    iter_num+=1 # run through the first iteration, then second, then third ... then tenth"
   ]
  },
  {
   "cell_type": "code",
   "execution_count": 28,
   "metadata": {},
   "outputs": [
    {
     "name": "stdout",
     "output_type": "stream",
     "text": [
      "The mean precision for this model is  0.5\n",
      "The mean recall for this model is  0.55\n",
      "The mean f1-score for this model is  0.5\n"
     ]
    }
   ],
   "source": [
    "BNB_precision = [0.48, 0.51, 0.50, 0.51, 0.49, 0.49, 0.50, 0.48, 0.51, 0.50]\n",
    "BNB_recall = [0.53, 0.54, 0.55, 0.55, 0.55, 0.54, 0.55, 0.54, 0.55, 0.56]\n",
    "BNB_f1 = [0.49, 0.49, 0.52, 0.50, 0.50, 0.50, 0.51, 0.50, 0.51, 0.51]\n",
    "\n",
    "mean_BNB_precision = np.mean(BNB_precision).round(2)\n",
    "print(\"The mean precision for this model is \", mean_BNB_precision)\n",
    "mean_BNB_recall = np.mean(BNB_recall).round(2)\n",
    "print(\"The mean recall for this model is \", mean_BNB_recall)\n",
    "mean_BNB_f1 = np.mean(BNB_f1).round(2)\n",
    "print(\"The mean f1-score for this model is \", mean_BNB_f1)"
   ]
  },
  {
   "cell_type": "code",
   "execution_count": 37,
   "metadata": {},
   "outputs": [
    {
     "name": "stdout",
     "output_type": "stream",
     "text": [
      "The mean accuracy for this model is  0.55\n"
     ]
    }
   ],
   "source": [
    "# Get the mean accuracy\n",
    "# Load the accuracies\n",
    "accuracies_BNB = cross_val_score(BNB_pipe, X, y = y, cv = sss) # this also can help with parallelism\n",
    "# Print out the mean \n",
    "mean_BNB = np.mean(accuracies_BNB).round(2)\n",
    "print(\"The mean accuracy for this model is \", mean_BNB)"
   ]
  },
  {
   "cell_type": "markdown",
   "metadata": {},
   "source": [
    "## Model Comparison\n",
    "Here we will compare how well the models performed"
   ]
  },
  {
   "cell_type": "code",
   "execution_count": 42,
   "metadata": {},
   "outputs": [
    {
     "name": "stdout",
     "output_type": "stream",
     "text": [
      "The mean accuracy for the KNN model is  0.61\n",
      " \n",
      "The mean accuracy for the Random Forest model is  0.64\n",
      " \n",
      "The mean accuracy for the SVM model is  0.62\n",
      " \n",
      "The mean accuracy for the Gaussian NB model is  0.56\n",
      " \n",
      "The mean accuracy for the Bernoulli NB model is  0.55\n"
     ]
    }
   ],
   "source": [
    "print(\"The mean accuracy for the KNN model is \", mean_KNN)\n",
    "print(\" \")\n",
    "print(\"The mean accuracy for the Random Forest model is \", mean_RF)\n",
    "print(\" \")\n",
    "print(\"The mean accuracy for the SVM model is \", mean_SVC)\n",
    "print(\" \")\n",
    "print(\"The mean accuracy for the Gaussian NB model is \", mean_GNB)\n",
    "print(\" \")\n",
    "print(\"The mean accuracy for the Bernoulli NB model is \", mean_BNB)"
   ]
  },
  {
   "cell_type": "code",
   "execution_count": 34,
   "metadata": {},
   "outputs": [
    {
     "name": "stdout",
     "output_type": "stream",
     "text": [
      "The mean precision for the KNN model is  0.6\n",
      " \n",
      "The mean precision for the Random Forest model is  0.64\n",
      " \n",
      "The mean precision for the SVM model is  0.62\n",
      " \n",
      "The mean precision for the Gaussian NB model is  0.56\n",
      " \n",
      "The mean precision for the Bernoulli NB model is  0.5\n"
     ]
    }
   ],
   "source": [
    "print(\"The mean precision for the KNN model is \", mean_KNN_precision)\n",
    "print(\" \")\n",
    "print(\"The mean precision for the Random Forest model is \", mean_RF_precision)\n",
    "print(\" \")\n",
    "print(\"The mean precision for the SVM model is \", mean_SVC_precision)\n",
    "print(\" \")\n",
    "print(\"The mean precision for the Gaussian NB model is \", mean_GNB_precision)\n",
    "print(\" \")\n",
    "print(\"The mean precision for the Bernoulli NB model is \", mean_BNB_precision)"
   ]
  },
  {
   "cell_type": "code",
   "execution_count": 35,
   "metadata": {},
   "outputs": [
    {
     "name": "stdout",
     "output_type": "stream",
     "text": [
      "The mean recall for the KNN model is  0.6\n",
      " \n",
      "The mean recall for the Random Forest model is  0.64\n",
      " \n",
      "The mean recall for the SVM model is  0.62\n",
      " \n",
      "The mean recall for the Gaussian NB model is  0.56\n",
      " \n",
      "The mean recall for the Bernoulli NB model is  0.55\n"
     ]
    }
   ],
   "source": [
    "print(\"The mean recall for the KNN model is \", mean_KNN_recall)\n",
    "print(\" \")\n",
    "print(\"The mean recall for the Random Forest model is \", mean_RF_recall)\n",
    "print(\" \")\n",
    "print(\"The mean recall for the SVM model is \", mean_SVC_recall)\n",
    "print(\" \")\n",
    "print(\"The mean recall for the Gaussian NB model is \", mean_GNB_recall)\n",
    "print(\" \")\n",
    "print(\"The mean recall for the Bernoulli NB model is \", mean_BNB_recall)"
   ]
  },
  {
   "cell_type": "code",
   "execution_count": 36,
   "metadata": {},
   "outputs": [
    {
     "name": "stdout",
     "output_type": "stream",
     "text": [
      "The mean f1-score for the KNN model is  0.58\n",
      " \n",
      "The mean f1-score for the Random Forest model is  0.63\n",
      " \n",
      "The mean f1-score for the SVM model is  0.61\n",
      " \n",
      "The mean f1-score for the Gaussian NB model is  0.53\n",
      " \n",
      "The mean f1-score for the Bernoulli NB model is  0.5\n"
     ]
    }
   ],
   "source": [
    "print(\"The mean f1-score for the KNN model is \", mean_KNN_f1)\n",
    "print(\" \")\n",
    "print(\"The mean f1-score for the Random Forest model is \", mean_RF_f1)\n",
    "print(\" \")\n",
    "print(\"The mean f1-score for the SVM model is \", mean_SVC_f1)\n",
    "print(\" \")\n",
    "print(\"The mean f1-score for the Gaussian NB model is \", mean_GNB_f1)\n",
    "print(\" \")\n",
    "print(\"The mean f1-score for the Bernoulli NB model is \", mean_BNB_f1)"
   ]
  },
  {
   "cell_type": "markdown",
   "metadata": {},
   "source": [
    "## Statistical Comparison\n",
    "Interpertation of the Confidence Interval\n",
    "For example, we are 95% confident that the mean of the RF and KNN is between [-0.4352, -0.0279]. The interval does not include 0. This means that there is a significant difference between the models."
   ]
  },
  {
   "cell_type": "code",
   "execution_count": 54,
   "metadata": {},
   "outputs": [],
   "source": [
    "def model_error_rate_variance(diff, mean):\n",
    "    K = 10 \n",
    "    # From one model to another model\n",
    "    for x in diff:\n",
    "        y = x-mean\n",
    "    sumy = np.sum(y)\n",
    "    V = (1/K-1)*(sumy).round(2)\n",
    "    \n",
    "    return V\n",
    "\n",
    "def model_confidence_intervals(diff, mean):\n",
    "    V = model_error_rate_variance(diff, mean)\n",
    "    # Calculate the Confidence Intervals for each comparison\n",
    "    K = 10\n",
    "    t_stat = 1.812\n",
    "    # From one model to another model\n",
    "    l = 1/math.sqrt(K)*t_stat*V\n",
    "    CI_plus = mean1 + l\n",
    "    CI_minus = mean1 - l\n",
    "    conf = [CI_minus, CI_plus]\n",
    "    \n",
    "    return conf"
   ]
  },
  {
   "cell_type": "code",
   "execution_count": 75,
   "metadata": {},
   "outputs": [],
   "source": [
    "def model_error_rates(model_name, accuracies_arry):\n",
    "    iter_num = 0\n",
    "    for x in accuracies_arry:\n",
    "        model_ER = 100 - x\n",
    "        print(\"---- Iteration\", iter_num,\" ----\") \n",
    "        print(model_name, 'Error Rate =', model_ER)\n",
    "        iter_num += 1"
   ]
  },
  {
   "cell_type": "code",
   "execution_count": 79,
   "metadata": {
    "scrolled": true
   },
   "outputs": [
    {
     "name": "stdout",
     "output_type": "stream",
     "text": [
      "______________________________________\n",
      "____________KNN____________\n",
      "---- Iteration 0  ----\n",
      "KNN Error Rate = 38.77\n",
      "---- Iteration 1  ----\n",
      "KNN Error Rate = 38.89\n",
      "---- Iteration 2  ----\n",
      "KNN Error Rate = 39.55\n",
      "---- Iteration 3  ----\n",
      "KNN Error Rate = 39.46\n",
      "---- Iteration 4  ----\n",
      "KNN Error Rate = 39.01\n",
      "---- Iteration 5  ----\n",
      "KNN Error Rate = 39.28\n",
      "---- Iteration 6  ----\n",
      "KNN Error Rate = 39.55\n",
      "---- Iteration 7  ----\n",
      "KNN Error Rate = 39.97\n",
      "---- Iteration 8  ----\n",
      "KNN Error Rate = 40.04\n",
      "---- Iteration 9  ----\n",
      "KNN Error Rate = 40.58\n",
      "______________________________________\n",
      "____________Random Forest____________\n",
      "______________________________________\n",
      "---- Iteration 0  ----\n",
      "Random Forest Error Rate = 35.3\n",
      "---- Iteration 1  ----\n",
      "Random Forest Error Rate = 35.24\n",
      "---- Iteration 2  ----\n",
      "Random Forest Error Rate = 35.9\n",
      "---- Iteration 3  ----\n",
      "Random Forest Error Rate = 36.17\n",
      "---- Iteration 4  ----\n",
      "Random Forest Error Rate = 35.6\n",
      "---- Iteration 5  ----\n",
      "Random Forest Error Rate = 35.99\n",
      "---- Iteration 6  ----\n",
      "Random Forest Error Rate = 36.2\n",
      "---- Iteration 7  ----\n",
      "Random Forest Error Rate = 36.51\n",
      "---- Iteration 8  ----\n",
      "Random Forest Error Rate = 35.96\n",
      "---- Iteration 9  ----\n",
      "Random Forest Error Rate = 36.66\n",
      "______________________________________\n",
      "____________SVM____________\n",
      "______________________________________\n",
      "---- Iteration 0  ----\n",
      "SVM Error Rate = 36.63\n",
      "---- Iteration 1  ----\n",
      "SVM Error Rate = 37.2\n",
      "---- Iteration 2  ----\n",
      "SVM Error Rate = 38.2\n",
      "---- Iteration 3  ----\n",
      "SVM Error Rate = 38.53\n",
      "---- Iteration 4  ----\n",
      "SVM Error Rate = 37.95\n",
      "---- Iteration 5  ----\n",
      "SVM Error Rate = 36.87\n",
      "---- Iteration 6  ----\n",
      "SVM Error Rate = 37.23\n",
      "---- Iteration 7  ----\n",
      "SVM Error Rate = 38.41\n",
      "---- Iteration 8  ----\n",
      "SVM Error Rate = 38.83\n",
      "---- Iteration 9  ----\n",
      "SVM Error Rate = 38.92\n",
      "______________________________________\n",
      "____________GNB____________\n",
      "______________________________________\n",
      "---- Iteration 0  ----\n",
      "GNB Error Rate = 44.08\n",
      "---- Iteration 1  ----\n",
      "GNB Error Rate = 44.26\n",
      "---- Iteration 2  ----\n",
      "GNB Error Rate = 44.32\n",
      "---- Iteration 3  ----\n",
      "GNB Error Rate = 45.04\n",
      "---- Iteration 4  ----\n",
      "GNB Error Rate = 43.75\n",
      "---- Iteration 5  ----\n",
      "GNB Error Rate = 43.9\n",
      "---- Iteration 6  ----\n",
      "GNB Error Rate = 43.96\n",
      "---- Iteration 7  ----\n",
      "GNB Error Rate = 45.16\n",
      "---- Iteration 8  ----\n",
      "GNB Error Rate = 43.35\n",
      "---- Iteration 9  ----\n",
      "GNB Error Rate = 44.41\n",
      "______________________________________\n",
      "____________BNB____________\n",
      "______________________________________\n",
      "---- Iteration 0  ----\n",
      "BNB Error Rate = 44.23\n",
      "---- Iteration 1  ----\n",
      "BNB Error Rate = 44.83\n",
      "---- Iteration 2  ----\n",
      "BNB Error Rate = 46.16\n",
      "---- Iteration 3  ----\n",
      "BNB Error Rate = 44.89\n",
      "---- Iteration 4  ----\n",
      "BNB Error Rate = 45.89\n",
      "---- Iteration 5  ----\n",
      "BNB Error Rate = 44.86\n",
      "---- Iteration 6  ----\n",
      "BNB Error Rate = 45.47\n",
      "---- Iteration 7  ----\n",
      "BNB Error Rate = 45.43\n",
      "---- Iteration 8  ----\n",
      "BNB Error Rate = 45.92\n",
      "---- Iteration 9  ----\n",
      "BNB Error Rate = 46.61\n"
     ]
    }
   ],
   "source": [
    "# Calculating the Error Rates of the three models \n",
    "BNB_Accs = [55.77, 55.17, 53.84, 55.11, 54.11, 55.14, 54.53, 54.57, 54.08, 53.39]\n",
    "GNB_Accs = [55.92, 55.74, 55.68, 54.96, 56.25, 56.10, 56.04, 54.84, 56.65, 55.59]\n",
    "SVM_Accs = [63.37, 62.8, 61.8, 61.47, 62.05, 63.13, 62.77, 61.59, 61.17, 61.08]\n",
    "RF_Accs = [64.7, 64.76, 64.1, 63.83, 64.40, 64.01, 63.8, 63.49, 64.04, 63.34]\n",
    "KNN_Accs = [61.23, 61.11, 60.45, 60.54, 60.99, 60.72, 60.45, 60.03, 59.96, 59.42]\n",
    "\n",
    "print(\"______________________________________\")\n",
    "print(\"____________KNN____________\")\n",
    "model_error_rates(\"KNN\", KNN_Accs)\n",
    "print(\"______________________________________\")\n",
    "print(\"____________Random Forest____________\")\n",
    "print(\"______________________________________\")\n",
    "model_error_rates(\"Random Forest\", RF_Accs)\n",
    "print(\"______________________________________\")\n",
    "print(\"____________SVM____________\")\n",
    "print(\"______________________________________\")\n",
    "model_error_rates(\"SVM\", SVM_Accs)\n",
    "print(\"______________________________________\")\n",
    "print(\"____________GNB____________\")\n",
    "print(\"______________________________________\")\n",
    "model_error_rates(\"GNB\", GNB_Accs)\n",
    "print(\"______________________________________\")\n",
    "print(\"____________BNB____________\")\n",
    "print(\"______________________________________\")\n",
    "model_error_rates(\"BNB\", BNB_Accs)"
   ]
  },
  {
   "cell_type": "code",
   "execution_count": 46,
   "metadata": {},
   "outputs": [
    {
     "name": "stdout",
     "output_type": "stream",
     "text": [
      "[3.47 3.65 3.65 3.29 3.41 3.29 3.35 3.46 4.08 3.92]\n",
      "[2.14 1.69 1.35 0.93 1.06 2.41 2.32 1.14 1.63 1.66]\n",
      "[-5.31 -5.37 -4.77 -5.58 -4.74 -4.62 -4.41 -3.38 -4.37 -4.58]\n",
      "[-5.46 -5.94 -6.61 -5.43 -6.88 -5.58 -5.92 -5.46 -5.88 -6.03]\n",
      "[-1.33 -1.96 -2.3  -2.36 -2.35 -0.88 -1.03 -2.32 -2.45 -2.26]\n",
      "[-8.78 -9.02 -8.42 -8.87 -8.15 -7.91 -7.76 -6.84 -8.45 -8.5 ]\n",
      "[ -8.93  -9.59 -10.26  -8.72 -10.29  -8.87  -9.27  -8.92  -9.96  -9.95]\n",
      "[-7.45 -7.06 -6.12 -6.51 -5.8  -7.03 -6.73 -4.52 -6.   -6.24]\n",
      "[-7.6  -7.63 -7.96 -6.36 -7.94 -7.99 -8.24 -6.6  -7.51 -7.69]\n",
      "[-0.15 -0.57 -1.84  0.15 -2.14 -0.96 -1.51 -2.08 -1.51 -1.45]\n"
     ]
    }
   ],
   "source": [
    "# Calculate the difference in the error rate bewteen each model comparsion\n",
    "KNN_ER = np.array([38.77, 38.89, 39.55, 39.46, 39.01, 39.28, 39.55, 39.97, 40.04, 40.58])\n",
    "RF_ER = np.array([35.3, 35.24, 35.9, 36.17, 35.6, 35.99, 36.2, 36.51, 35.96, 36.66])\n",
    "SVM_ER = np.array([36.63, 37.2, 38.2, 38.53, 37.95, 36.87, 37.23, 38.83, 38.41, 38.92])\n",
    "GNB_ER = np.array([44.08, 44.26, 44.32, 45.04, 43.75, 43.9, 43.96, 43.35, 44.41, 45.16])\n",
    "BNB_ER = np.array([44.23, 44.83, 46.16, 44.89, 45.89, 44.86, 45.47, 45.43, 45.92, 46.61])\n",
    "\n",
    "# KNN to RF \n",
    "Diff1 = KNN_ER - RF_ER\n",
    "print(Diff1)\n",
    "\n",
    "# KNN to SVM\n",
    "Diff2 = KNN_ER - SVM_ER\n",
    "print(Diff2)\n",
    "\n",
    "# KNN to GNB\n",
    "Diff3 = KNN_ER - GNB_ER\n",
    "print(Diff3)\n",
    "\n",
    "# KNN to BNB\n",
    "Diff4 = KNN_ER - BNB_ER\n",
    "print(Diff4)\n",
    "\n",
    "# RF to SVM\n",
    "Diff5 = RF_ER - SVM_ER\n",
    "print(Diff5)\n",
    "\n",
    "# RF to GNB\n",
    "Diff6 = RF_ER - GNB_ER\n",
    "print(Diff6)\n",
    "\n",
    "# RF to BNB\n",
    "Diff7 = RF_ER - BNB_ER\n",
    "print(Diff7)\n",
    "\n",
    "# SVM to GNB\n",
    "Diff8 = SVM_ER - GNB_ER\n",
    "print(Diff8)\n",
    "\n",
    "# SVM to BNB\n",
    "Diff9 = SVM_ER - BNB_ER\n",
    "print(Diff9)\n",
    "\n",
    "# GNB to BNB\n",
    "Diff10 = GNB_ER - BNB_ER\n",
    "print(Diff10)"
   ]
  },
  {
   "cell_type": "code",
   "execution_count": 49,
   "metadata": {},
   "outputs": [
    {
     "name": "stdout",
     "output_type": "stream",
     "text": [
      "The differance in Error Rates for KNN & RF 3.56\n",
      "The differance in Error Rates for KNN & SVM 1.63\n",
      "The differance in Error Rates for KNN & GNB -4.71\n",
      "The differance in Error Rates for KNN & BNB -5.92\n",
      "The differance in Error Rates for RF & SVM -1.92\n",
      "The differance in Error Rates for RF & GNB -8.27\n",
      "The differance in Error Rates for RF & BNB -9.48\n",
      "The differance in Error Rates for SVM & GNB -6.35\n",
      "The differance in Error Rates for SVM & BNB -7.55\n",
      "The differance in Error Rates for GNB & BNB -1.21\n"
     ]
    }
   ],
   "source": [
    "# Calculate the mean of the differance in Error Rates for each model comparison\n",
    "\n",
    "# KNN to RF \n",
    "mean1 = np.mean(Diff1).round(2)\n",
    "print(\"The differance in Error Rates for KNN & RF\", mean1)\n",
    "\n",
    "# KNN to SVM\n",
    "mean2 = np.mean(Diff2).round(2)\n",
    "print(\"The differance in Error Rates for KNN & SVM\", mean2)\n",
    "\n",
    "# KNN to GNB\n",
    "mean3 = np.mean(Diff3).round(2)\n",
    "print(\"The differance in Error Rates for KNN & GNB\", mean3)\n",
    "\n",
    "# KNN to BNB\n",
    "mean4 = np.mean(Diff4).round(2)\n",
    "print(\"The differance in Error Rates for KNN & BNB\", mean4)\n",
    "\n",
    "# RF to SVM\n",
    "mean5 = np.mean(Diff5).round(2)\n",
    "print(\"The differance in Error Rates for RF & SVM\", mean5)\n",
    "\n",
    "# RF to GNB\n",
    "mean6 = np.mean(Diff6).round(2)\n",
    "print(\"The differance in Error Rates for RF & GNB\", mean6)\n",
    "\n",
    "# RF to BNB\n",
    "mean7 = np.mean(Diff7).round(2)\n",
    "print(\"The differance in Error Rates for RF & BNB\", mean7)\n",
    "\n",
    "# SVM to GNB\n",
    "mean8 = np.mean(Diff8).round(2)\n",
    "print(\"The differance in Error Rates for SVM & GNB\", mean8)\n",
    "\n",
    "# SVM to BNB\n",
    "mean9 = np.mean(Diff9).round(2)\n",
    "print(\"The differance in Error Rates for SVM & BNB\", mean9)\n",
    "\n",
    "# GNB to BNB\n",
    "mean10 = np.mean(Diff10).round(2)\n",
    "print(\"The differance in Error Rates for GNB & BNB\", mean10)"
   ]
  },
  {
   "cell_type": "code",
   "execution_count": 55,
   "metadata": {},
   "outputs": [
    {
     "name": "stdout",
     "output_type": "stream",
     "text": [
      "Variance for KNN & RF = -0.36\n",
      "Variance for KNN & SVM = -0.03\n",
      "Variance for KNN & GNB = -0.13\n",
      "Variance for KNN & BNB = 0.11\n",
      "Variance for RF & SVM = 0.34\n",
      "Variance for RF & GNB = 0.23\n",
      "Variance for RF & BNB = 0.47\n",
      "Variance for SVM & GNB = -0.11\n",
      "Variance for SVM & BNB = 0.14\n",
      "Variance for GNB & BNB = 0.24\n"
     ]
    }
   ],
   "source": [
    "# Calculate the Variance of the differance in Error Rates for each model comparison\n",
    "print('Variance for KNN & RF =', model_error_rate_variance(Diff1, mean1))\n",
    "print('Variance for KNN & SVM =', model_error_rate_variance(Diff2, mean2))\n",
    "print('Variance for KNN & GNB =', model_error_rate_variance(Diff3, mean3))\n",
    "print('Variance for KNN & BNB =', model_error_rate_variance(Diff4, mean4))\n",
    "print('Variance for RF & SVM =', model_error_rate_variance(Diff5, mean5))\n",
    "print('Variance for RF & GNB =', model_error_rate_variance(Diff6, mean6))\n",
    "print('Variance for RF & BNB =', model_error_rate_variance(Diff7, mean7))\n",
    "print('Variance for SVM & GNB =', model_error_rate_variance(Diff8, mean8))\n",
    "print('Variance for SVM & BNB =', model_error_rate_variance(Diff9, mean9))\n",
    "print('Variance for GNB & BNB =', model_error_rate_variance(Diff10, mean10))"
   ]
  },
  {
   "cell_type": "code",
   "execution_count": 74,
   "metadata": {},
   "outputs": [
    {
     "name": "stdout",
     "output_type": "stream",
     "text": [
      "Confidence Interval for KNN and RF is [3.766281696328104, 3.3537183036718963]\n",
      "Confidence Interval for KNN and SVM is [3.5771901413606755, 3.5428098586393246]\n",
      "Confidence Interval for KNN and GNB is [3.6344906125629266, 3.4855093874370735]\n",
      "Confidence Interval for KNN and BNB is [3.496969481677524, 3.623030518322476]\n",
      "Confidence Interval for RF and SVM is [3.3651783979123464, 3.7548216020876537]\n",
      "Confidence Interval for RF and GNB is [3.428208916234823, 3.6917910837651773]\n",
      "Confidence Interval for RF and BNB is [3.2906877853494203, 3.82931221465058]\n",
      "Confidence Interval for SVM and GNB is [3.623030518322476, 3.496969481677524]\n",
      "Confidence Interval for SVM and BNB is [3.4797793403168487, 3.6402206596831514]\n",
      "Confidence Interval for GNB and BNB is [3.4224788691145975, 3.6975211308854026]\n"
     ]
    }
   ],
   "source": [
    "print(\"Confidence Interval for KNN and RF is\", model_confidence_intervals(Diff1, mean1))\n",
    "print(\"Confidence Interval for KNN and SVM is\", model_confidence_intervals(Diff2, mean2))\n",
    "print(\"Confidence Interval for KNN and GNB is\", model_confidence_intervals(Diff3, mean3))\n",
    "print(\"Confidence Interval for KNN and BNB is\", model_confidence_intervals(Diff4, mean4))\n",
    "print(\"Confidence Interval for RF and SVM is\", model_confidence_intervals(Diff5, mean5))\n",
    "print(\"Confidence Interval for RF and GNB is\", model_confidence_intervals(Diff6, mean6))\n",
    "print(\"Confidence Interval for RF and BNB is\", model_confidence_intervals(Diff7, mean7))\n",
    "print(\"Confidence Interval for SVM and GNB is\", model_confidence_intervals(Diff8, mean8))\n",
    "print(\"Confidence Interval for SVM and BNB is\", model_confidence_intervals(Diff9, mean9))\n",
    "print(\"Confidence Interval for GNB and BNB is\", model_confidence_intervals(Diff10, mean10))"
   ]
  },
  {
   "cell_type": "code",
   "execution_count": null,
   "metadata": {},
   "outputs": [],
   "source": []
  }
 ],
 "metadata": {
  "kernelspec": {
   "display_name": "Python 2",
   "language": "python",
   "name": "python2"
  },
  "language_info": {
   "codemirror_mode": {
    "name": "ipython",
    "version": 2
   },
   "file_extension": ".py",
   "mimetype": "text/x-python",
   "name": "python",
   "nbconvert_exporter": "python",
   "pygments_lexer": "ipython2",
   "version": "2.7.15"
  }
 },
 "nbformat": 4,
 "nbformat_minor": 2
}
